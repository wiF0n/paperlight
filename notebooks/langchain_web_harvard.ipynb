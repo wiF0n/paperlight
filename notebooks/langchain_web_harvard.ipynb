{
 "cells": [
  {
   "cell_type": "code",
   "execution_count": 7,
   "metadata": {},
   "outputs": [],
   "source": [
    "from dotenv import load_dotenv\n",
    "\n",
    "from langchain.tools import Tool\n",
    "from langchain_community.utilities import GoogleSearchAPIWrapper\n",
    "from langchain_community.utilities import TextRequestsWrapper\n",
    "\n",
    "from bs4 import BeautifulSoup\n",
    "\n",
    "#from src.search import top_n_results_factory"
   ]
  },
  {
   "cell_type": "markdown",
   "metadata": {},
   "source": []
  },
  {
   "cell_type": "code",
   "execution_count": 8,
   "metadata": {},
   "outputs": [
    {
     "data": {
      "text/plain": [
       "True"
      ]
     },
     "execution_count": 8,
     "metadata": {},
     "output_type": "execute_result"
    }
   ],
   "source": [
    "load_dotenv()"
   ]
  },
  {
   "cell_type": "code",
   "execution_count": 9,
   "metadata": {},
   "outputs": [],
   "source": [
    "def top_3_results(query):\n",
    "    search = GoogleSearchAPIWrapper()\n",
    "    return search.results(query, 3)"
   ]
  },
  {
   "cell_type": "code",
   "execution_count": 10,
   "metadata": {},
   "outputs": [],
   "source": [
    "tool = Tool(\n",
    "    name=\"Google Search\",\n",
    "    description=\"Search Google for recent results.\",\n",
    "    func=top_3_results,\n",
    ")"
   ]
  },
  {
   "cell_type": "code",
   "execution_count": 11,
   "metadata": {},
   "outputs": [],
   "source": [
    "searches = tool.run(\"Kubanda\")"
   ]
  },
  {
   "cell_type": "code",
   "execution_count": 12,
   "metadata": {},
   "outputs": [
    {
     "data": {
      "text/plain": [
       "[{'title': 'First tests of Timepix detectors based on semi-insulating GaAs ...',\n",
       "  'link': 'https://ui.adsabs.harvard.edu/abs/2018JInst..13C2013Z/abstract',\n",
       "  'snippet': 'Kubanda, D. ;; Žemlička, J. ;; Šagátová, A. ;; Zápražný, Z. ;; Boháček, P. ;; Nečas, V. ;; Mora, Y. ;; Pichotka, M. ;; Dudák, J. Abstract. In this work, we have\\xa0...'},\n",
       " {'title': 'Spectrometric properties of semi-insulating GaAs detectors ...',\n",
       "  'link': 'https://ui.adsabs.harvard.edu/abs/2016JInst..11C2078S/abstract',\n",
       "  'snippet': 'Fülöp, M. ;; Kubanda, D. ;; Nečas, V. Abstract. The radiation hardness of Semi-Insulating (SI) GaAs detectors against 5 MeV electrons is investigated in this\\xa0...'},\n",
       " {'title': 'Semi-insulating GaAs based detector of fast neutrons produced by ...',\n",
       "  'link': 'https://ui.adsabs.harvard.edu/abs/2016JInst..11C2002S/abstract',\n",
       "  'snippet': \"Šagátová, A. ;; Kubanda, D. ;; Zat'ko, B. ;; Sedlačková, K. ;; Nečas, V. ;; Solar, M. ;; Granja, C. Abstract. We have examined semi-insulating (SI) GaAs\\xa0...\"}]"
      ]
     },
     "execution_count": 12,
     "metadata": {},
     "output_type": "execute_result"
    }
   ],
   "source": [
    "searches"
   ]
  },
  {
   "cell_type": "code",
   "execution_count": 13,
   "metadata": {},
   "outputs": [],
   "source": [
    "links = [search['link'] for search in searches]"
   ]
  },
  {
   "cell_type": "code",
   "execution_count": 14,
   "metadata": {},
   "outputs": [
    {
     "data": {
      "text/plain": [
       "['https://ui.adsabs.harvard.edu/abs/2018JInst..13C2013Z/abstract',\n",
       " 'https://ui.adsabs.harvard.edu/abs/2016JInst..11C2078S/abstract',\n",
       " 'https://ui.adsabs.harvard.edu/abs/2016JInst..11C2002S/abstract']"
      ]
     },
     "execution_count": 14,
     "metadata": {},
     "output_type": "execute_result"
    }
   ],
   "source": [
    "links"
   ]
  },
  {
   "cell_type": "code",
   "execution_count": 15,
   "metadata": {},
   "outputs": [],
   "source": [
    "requests = TextRequestsWrapper()"
   ]
  },
  {
   "cell_type": "code",
   "execution_count": 16,
   "metadata": {},
   "outputs": [],
   "source": [
    "html_list = [requests.get(link) for link in links]"
   ]
  },
  {
   "cell_type": "code",
   "execution_count": 17,
   "metadata": {},
   "outputs": [
    {
     "data": {
      "text/plain": [
       "str"
      ]
     },
     "execution_count": 17,
     "metadata": {},
     "output_type": "execute_result"
    }
   ],
   "source": [
    "type(html_list[0])"
   ]
  },
  {
   "cell_type": "code",
   "execution_count": 18,
   "metadata": {},
   "outputs": [],
   "source": [
    "soup = BeautifulSoup(html_list[0])"
   ]
  },
  {
   "cell_type": "code",
   "execution_count": 19,
   "metadata": {},
   "outputs": [
    {
     "name": "stdout",
     "output_type": "stream",
     "text": [
      "First tests of Timepix detectors based on semi-insulating GaAs matrix of different pixel size\n"
     ]
    }
   ],
   "source": [
    "print(soup.find('meta', property='og:title')[\"content\"])"
   ]
  },
  {
   "cell_type": "code",
   "execution_count": 20,
   "metadata": {},
   "outputs": [
    {
     "data": {
      "text/plain": [
       "'Zaťko B., Kubanda D., Žemlička J., et al.'"
      ]
     },
     "execution_count": 20,
     "metadata": {},
     "output_type": "execute_result"
    }
   ],
   "source": [
    "# Get first 3 authors (remove comma from name) and append et.al. if more than 3 and format as a string\n",
    "authors = soup.find_all(\"meta\", property=\"article:author\")\n",
    "authors = [author[\"content\"].replace(\",\", \"\") for author in authors]\n",
    "if len(authors) > 3:\n",
    "    authors = authors[:3]\n",
    "    authors.append(\"et al.\")\n",
    "authors = \", \".join(authors)\n",
    "authors"
   ]
  },
  {
   "cell_type": "code",
   "execution_count": 21,
   "metadata": {},
   "outputs": [
    {
     "data": {
      "text/plain": [
       "[<meta content=\"Zaťko, B.\" property=\"article:author\"/>,\n",
       " <meta content=\"Kubanda, D.\" property=\"article:author\"/>,\n",
       " <meta content=\"Žemlička, J.\" property=\"article:author\"/>,\n",
       " <meta content=\"Šagátová, A.\" property=\"article:author\"/>,\n",
       " <meta content=\"Zápražný, Z.\" property=\"article:author\"/>,\n",
       " <meta content=\"Boháček, P.\" property=\"article:author\"/>,\n",
       " <meta content=\"Nečas, V.\" property=\"article:author\"/>,\n",
       " <meta content=\"Mora, Y.\" property=\"article:author\"/>,\n",
       " <meta content=\"Pichotka, M.\" property=\"article:author\"/>,\n",
       " <meta content=\"Dudák, J.\" property=\"article:author\"/>]"
      ]
     },
     "execution_count": 21,
     "metadata": {},
     "output_type": "execute_result"
    }
   ],
   "source": [
    "soup.find_all(\"meta\", property=\"article:author\")"
   ]
  },
  {
   "cell_type": "code",
   "execution_count": 22,
   "metadata": {},
   "outputs": [
    {
     "name": "stdout",
     "output_type": "stream",
     "text": [
      "In this work, we have focused on Timepix detectors coupled with the semi-insulating GaAs material sensor. We used undoped bulk GaAs material with the thickness of 350 μm. We prepared and tested four pixelated detectors with 165 μm and 220 μm pixel size with two versions of technology preparation, without and with wet chemically etched trenches around each pixel. We have carried out adjustment of GaAs Timepix detectors to optimize their performance. The energy calibration of one GaAs Timepix detector in Time-over-threshold mode was performed with the use of <SUP>241</SUP>Am and <SUP>133</SUP>Ba radioisotopes. We were able to detect γ-photons with the energy up to 160 keV. The X-ray imaging quality of GaAs Timepix detector was tested with X-ray source using various samples. After flat field we obtained very promising imaging performance of tested GaAs Timepix detectors.\n"
     ]
    }
   ],
   "source": [
    "abstract = soup.find('meta', property='og:description')[\"content\"]\n",
    "print(abstract)"
   ]
  },
  {
   "cell_type": "code",
   "execution_count": 23,
   "metadata": {},
   "outputs": [],
   "source": [
    "from langchain.prompts import PromptTemplate"
   ]
  },
  {
   "cell_type": "code",
   "execution_count": 28,
   "metadata": {},
   "outputs": [],
   "source": [
    "prompt_template = PromptTemplate.from_template(\n",
    "    \"\"\"\n",
    "    You are a seasoned researcher, teacher and a popularizer of science that can explain scientific concepts to the wide variety of audiences.\n",
    "    You will be given an abstract of a scientific paper, an audience (e.g. high-school students) and a language, and you will have to explain the scientific paper it in a way that is understandable for the audience and translate that explanation to given language. \n",
    "    Please be concise and clear, make a summary and few bulletpoints. Please only include the translation without any introductory sentences.\n",
    "    \n",
    "    Audience: {audience}.\n",
    "    \n",
    "    Language: {language}.\n",
    "    \n",
    "    Abstract: {abstract}\n",
    "    \"\"\"\n",
    ")"
   ]
  },
  {
   "cell_type": "code",
   "execution_count": 29,
   "metadata": {},
   "outputs": [],
   "source": [
    "my_prompt = prompt_template.format(audience=\"middle school students\", abstract=abstract, language=\"Slovak\")"
   ]
  },
  {
   "cell_type": "code",
   "execution_count": 30,
   "metadata": {},
   "outputs": [
    {
     "name": "stdout",
     "output_type": "stream",
     "text": [
      "\n",
      "    You are a seasoned researcher, teacher and a popularizer of science that can explain scientific concepts to the wide variety of audiences.\n",
      "    You will be given an abstract of a scientific paper, an audience (e.g. high-school students) and a language, and you will have to explain the scientific paper it in a way that is understandable for the audience and translate that explanation to given language. \n",
      "    Please be concise and clear, make a summary and few bulletpoints. Please only include the translation without any introductory sentences.\n",
      "    \n",
      "    Audience: middle school students.\n",
      "    \n",
      "    Language: Slovak.\n",
      "    \n",
      "    Abstract: In this work, we have focused on Timepix detectors coupled with the semi-insulating GaAs material sensor. We used undoped bulk GaAs material with the thickness of 350 μm. We prepared and tested four pixelated detectors with 165 μm and 220 μm pixel size with two versions of technology preparation, without and with wet chemically etched trenches around each pixel. We have carried out adjustment of GaAs Timepix detectors to optimize their performance. The energy calibration of one GaAs Timepix detector in Time-over-threshold mode was performed with the use of <SUP>241</SUP>Am and <SUP>133</SUP>Ba radioisotopes. We were able to detect γ-photons with the energy up to 160 keV. The X-ray imaging quality of GaAs Timepix detector was tested with X-ray source using various samples. After flat field we obtained very promising imaging performance of tested GaAs Timepix detectors.\n",
      "    \n"
     ]
    }
   ],
   "source": [
    "print(my_prompt)"
   ]
  },
  {
   "cell_type": "code",
   "execution_count": 35,
   "metadata": {},
   "outputs": [],
   "source": [
    "from langchain.schema import HumanMessage\n",
    "from langchain_openai import ChatOpenAI\n"
   ]
  },
  {
   "cell_type": "code",
   "execution_count": 36,
   "metadata": {},
   "outputs": [],
   "source": [
    "llm = ChatOpenAI(temperature=0, model_name=\"gpt-3.5-turbo\", streaming=True)\n"
   ]
  },
  {
   "cell_type": "code",
   "execution_count": 38,
   "metadata": {},
   "outputs": [
    {
     "name": "stdout",
     "output_type": "stream",
     "text": [
      "V tejto práci sme sa zameriavali na detektory Timepix spojené so senzorom z polovodičového materiálu GaAs. Použili sme nedotovaný blokový materiál GaAs s hrúbkou 350 μm. Pripravili sme a otestovali štyri pixelové detektory s veľkosťou pixelu 165 μm a 220 μm s dvoma verziami technologickej prípravy, bez a s mokrým chemickým leptaním priekop okolo každého pixelu. Vykonali sme nastavenie detektorov GaAs Timepix na optimalizáciu ich výkonu. Energetická kalibrácia jedného detektora GaAs Timepix v móde Time-over-threshold bola vykonaná pomocou rádioizotopov <SUP>241</SUP>Am a <SUP>133</SUP>Ba. Boli sme schopní detekovať γ-fotóny s energiou až do 160 keV. Kvalita röntgenového zobrazovania detektora GaAs Timepix bola testovaná pomocou röntgenového zdroja s použitím rôznych vzoriek. Po vyrovnávacej ploche sme dosiahli veľmi sľubný výkon zobrazovania testovaných detektorov GaAs Timepix.\n",
      "\n",
      "- Skúmali sme detektory Timepix spojené so senzorom z materiálu GaAs.\n",
      "- Použili sme nedotovaný blokový materiál GaAs s hrúbkou 350 μm.\n",
      "- Pripravili sme a otestovali štyri pixelové detektory s veľkosťou pixelu 165 μm a 220 μm.\n",
      "- Vykonali sme kalibráciu detektorov a testovali ich schopnosť detekovať röntgenové a γ-fotóny.\n",
      "- Dosiahli sme sľubný výkon zobrazovania testovaných detektorov GaAs Timepix.\n",
      "\n",
      "Preklad:\n",
      "V tejto práci sme sa zameriavali na detektory Timepix spojené so senzorom z polovodičového materiálu GaAs. Použili sme nedotovaný blokový materiál GaAs s hrúbkou 350 μm. Pripravili sme a otestovali štyri pixelové detektory s veľkosťou pixelu 165 μm a 220 μm s dvoma verziami technologickej prípravy, bez a s mokrým chemickým leptaním priekop okolo každého pixelu. Vykonali sme nastavenie detektorov GaAs Timepix na optimalizáciu ich výkonu. Energetická kalibrácia jedného detektora GaAs Timepix v móde Time-over-threshold bola vykonaná pomocou rádioizotopov <SUP>241</SUP>Am a <SUP>133</SUP>Ba. Boli sme schopní detekovať γ-fotóny s energiou až do 160 keV. Kvalita röntgenového zobrazovania detektora GaAs Timepix bola testovaná pomocou röntgenového zdroja s použitím rôznych vzoriek. Po vyrovnávacej ploche sme dosiahli veľmi sľubný výkon zobrazovania testovaných detektorov GaAs Timepix."
     ]
    }
   ],
   "source": [
    "for chunk in llm.stream(my_prompt):\n",
    "    print(chunk.content, end=\"\", flush=True)"
   ]
  },
  {
   "cell_type": "code",
   "execution_count": null,
   "metadata": {},
   "outputs": [],
   "source": []
  }
 ],
 "metadata": {
  "kernelspec": {
   "display_name": "paperlight",
   "language": "python",
   "name": "python3"
  },
  "language_info": {
   "codemirror_mode": {
    "name": "ipython",
    "version": 3
   },
   "file_extension": ".py",
   "mimetype": "text/x-python",
   "name": "python",
   "nbconvert_exporter": "python",
   "pygments_lexer": "ipython3",
   "version": "3.12.1"
  }
 },
 "nbformat": 4,
 "nbformat_minor": 2
}
