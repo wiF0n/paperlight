{
 "cells": [
  {
   "cell_type": "code",
   "execution_count": 1,
   "metadata": {},
   "outputs": [],
   "source": [
    "from dotenv import load_dotenv\n",
    "\n",
    "from langchain.tools import Tool\n",
    "from langchain_community.utilities import GoogleSearchAPIWrapper\n",
    "from langchain_community.utilities import TextRequestsWrapper\n",
    "\n",
    "from bs4 import BeautifulSoup\n",
    "\n",
    "#from src.search import top_n_results_factory"
   ]
  },
  {
   "cell_type": "code",
   "execution_count": 2,
   "metadata": {},
   "outputs": [
    {
     "data": {
      "text/plain": [
       "True"
      ]
     },
     "execution_count": 2,
     "metadata": {},
     "output_type": "execute_result"
    }
   ],
   "source": [
    "load_dotenv()"
   ]
  },
  {
   "cell_type": "code",
   "execution_count": 3,
   "metadata": {},
   "outputs": [],
   "source": [
    "def top_3_results(query):\n",
    "    search = GoogleSearchAPIWrapper()\n",
    "    return search.results(query, 3)"
   ]
  },
  {
   "cell_type": "code",
   "execution_count": 4,
   "metadata": {},
   "outputs": [],
   "source": [
    "tool = Tool(\n",
    "    name=\"Google Search\",\n",
    "    description=\"Search Google for recent results.\",\n",
    "    func=top_3_results,\n",
    ")"
   ]
  },
  {
   "cell_type": "code",
   "execution_count": 5,
   "metadata": {},
   "outputs": [],
   "source": [
    "searches = tool.run(\"Layoutlmv3\")"
   ]
  },
  {
   "cell_type": "code",
   "execution_count": 6,
   "metadata": {},
   "outputs": [
    {
     "data": {
      "text/plain": [
       "[{'title': 'LayoutLMv3: Pre-training for Document AI with Unified Text and ...',\n",
       "  'link': 'https://arxiv.org/abs/2204.08387',\n",
       "  'snippet': 'Apr 18, 2022 ... Title:LayoutLMv3: Pre-training for Document AI with Unified Text and Image Masking ... Abstract:Self-supervised pre-training techniques have\\xa0...'},\n",
       " {'title': 'Semantic Table Detection with LayoutLMv3',\n",
       "  'link': 'https://arxiv.org/abs/2211.15504',\n",
       "  'snippet': 'Nov 25, 2022 ... Title:Semantic Table Detection with LayoutLMv3 ... Abstract:This paper presents an application of the LayoutLMv3 model for semantic table\\xa0...'},\n",
       " {'title': 'DocILE Benchmark for Document Information Localization and ...',\n",
       "  'link': 'https://arxiv.org/abs/2302.05658',\n",
       "  'snippet': 'Feb 11, 2023 ... The benchmark comes with several baselines, including RoBERTa, LayoutLMv3 and DETR-based Table Transformer; applied to both tasks of the\\xa0...'}]"
      ]
     },
     "execution_count": 6,
     "metadata": {},
     "output_type": "execute_result"
    }
   ],
   "source": [
    "searches"
   ]
  },
  {
   "cell_type": "code",
   "execution_count": 7,
   "metadata": {},
   "outputs": [],
   "source": [
    "links = [search['link'] for search in searches]"
   ]
  },
  {
   "cell_type": "code",
   "execution_count": 8,
   "metadata": {},
   "outputs": [
    {
     "data": {
      "text/plain": [
       "['https://arxiv.org/abs/2204.08387',\n",
       " 'https://arxiv.org/abs/2211.15504',\n",
       " 'https://arxiv.org/abs/2302.05658']"
      ]
     },
     "execution_count": 8,
     "metadata": {},
     "output_type": "execute_result"
    }
   ],
   "source": [
    "links"
   ]
  },
  {
   "cell_type": "code",
   "execution_count": 9,
   "metadata": {},
   "outputs": [],
   "source": [
    "requests = TextRequestsWrapper()"
   ]
  },
  {
   "cell_type": "code",
   "execution_count": 10,
   "metadata": {},
   "outputs": [],
   "source": [
    "html_list = [requests.get(link) for link in links]"
   ]
  },
  {
   "cell_type": "code",
   "execution_count": 11,
   "metadata": {},
   "outputs": [
    {
     "data": {
      "text/plain": [
       "str"
      ]
     },
     "execution_count": 11,
     "metadata": {},
     "output_type": "execute_result"
    }
   ],
   "source": [
    "type(html_list[0])"
   ]
  },
  {
   "cell_type": "code",
   "execution_count": 12,
   "metadata": {},
   "outputs": [
    {
     "name": "stderr",
     "output_type": "stream",
     "text": [
      "/tmp/ipykernel_506/601252181.py:1: XMLParsedAsHTMLWarning: It looks like you're parsing an XML document using an HTML parser. If this really is an HTML document (maybe it's XHTML?), you can ignore or filter this warning. If it's XML, you should know that using an XML parser will be more reliable. To parse this document as XML, make sure you have the lxml package installed, and pass the keyword argument `features=\"xml\"` into the BeautifulSoup constructor.\n",
      "  soup = BeautifulSoup(html_list[0])\n"
     ]
    }
   ],
   "source": [
    "soup = BeautifulSoup(html_list[0])"
   ]
  },
  {
   "cell_type": "code",
   "execution_count": 13,
   "metadata": {},
   "outputs": [
    {
     "name": "stdout",
     "output_type": "stream",
     "text": [
      "LayoutLMv3: Pre-training for Document AI with Unified Text and Image Masking\n"
     ]
    }
   ],
   "source": [
    "print(soup.find('meta', property='og:title')[\"content\"])"
   ]
  },
  {
   "cell_type": "code",
   "execution_count": 14,
   "metadata": {},
   "outputs": [
    {
     "data": {
      "text/plain": [
       "''"
      ]
     },
     "execution_count": 14,
     "metadata": {},
     "output_type": "execute_result"
    }
   ],
   "source": [
    "# Get first 3 authors (remove comma from name) and append et.al. if more than 3 and format as a string\n",
    "authors = soup.find_all(\"meta\", property=\"article:author\")\n",
    "authors = [author[\"content\"].replace(\",\", \"\") for author in authors]\n",
    "if len(authors) > 3:\n",
    "    authors = authors[:3]\n",
    "    authors.append(\"et al.\")\n",
    "authors = \", \".join(authors)\n",
    "authors"
   ]
  },
  {
   "cell_type": "code",
   "execution_count": 21,
   "metadata": {},
   "outputs": [
    {
     "data": {
      "text/plain": [
       "'Huang Yupan, Lv Tengchao, Cui Lei, et al.'"
      ]
     },
     "execution_count": 21,
     "metadata": {},
     "output_type": "execute_result"
    }
   ],
   "source": [
    "# Get first 3 authors (remove comma from name) and append et.al. if more than 3 and format as a string\n",
    "authors = soup.find_all(\"meta\", attrs={'name': 'citation_author'})\n",
    "authors = [author[\"content\"].replace(\",\", \"\") for author in authors]\n",
    "if len(authors) > 3:\n",
    "    authors = authors[:3]\n",
    "    authors.append(\"et al.\")\n",
    "authors = \", \".join(authors)\n",
    "authors"
   ]
  },
  {
   "cell_type": "code",
   "execution_count": 21,
   "metadata": {},
   "outputs": [
    {
     "data": {
      "text/plain": [
       "[<meta content=\"Zaťko, B.\" property=\"article:author\"/>,\n",
       " <meta content=\"Kubanda, D.\" property=\"article:author\"/>,\n",
       " <meta content=\"Žemlička, J.\" property=\"article:author\"/>,\n",
       " <meta content=\"Šagátová, A.\" property=\"article:author\"/>,\n",
       " <meta content=\"Zápražný, Z.\" property=\"article:author\"/>,\n",
       " <meta content=\"Boháček, P.\" property=\"article:author\"/>,\n",
       " <meta content=\"Nečas, V.\" property=\"article:author\"/>,\n",
       " <meta content=\"Mora, Y.\" property=\"article:author\"/>,\n",
       " <meta content=\"Pichotka, M.\" property=\"article:author\"/>,\n",
       " <meta content=\"Dudák, J.\" property=\"article:author\"/>]"
      ]
     },
     "execution_count": 21,
     "metadata": {},
     "output_type": "execute_result"
    }
   ],
   "source": [
    "soup.find_all(\"meta\", property=\"article:author\")"
   ]
  },
  {
   "cell_type": "code",
   "execution_count": 22,
   "metadata": {},
   "outputs": [
    {
     "name": "stdout",
     "output_type": "stream",
     "text": [
      "In this work, we have focused on Timepix detectors coupled with the semi-insulating GaAs material sensor. We used undoped bulk GaAs material with the thickness of 350 μm. We prepared and tested four pixelated detectors with 165 μm and 220 μm pixel size with two versions of technology preparation, without and with wet chemically etched trenches around each pixel. We have carried out adjustment of GaAs Timepix detectors to optimize their performance. The energy calibration of one GaAs Timepix detector in Time-over-threshold mode was performed with the use of <SUP>241</SUP>Am and <SUP>133</SUP>Ba radioisotopes. We were able to detect γ-photons with the energy up to 160 keV. The X-ray imaging quality of GaAs Timepix detector was tested with X-ray source using various samples. After flat field we obtained very promising imaging performance of tested GaAs Timepix detectors.\n"
     ]
    }
   ],
   "source": [
    "abstract = soup.find('meta', property='og:description')[\"content\"]\n",
    "print(abstract)"
   ]
  },
  {
   "cell_type": "code",
   "execution_count": 22,
   "metadata": {},
   "outputs": [],
   "source": [
    "from langchain.prompts import PromptTemplate"
   ]
  },
  {
   "cell_type": "code",
   "execution_count": 27,
   "metadata": {},
   "outputs": [],
   "source": [
    "prompt_template = PromptTemplate.from_template(\n",
    "    \"\"\"\n",
    "You are a seasoned researcher, teacher and a popularizer of science that can explain scientific concepts to the wide variety of audiences.\n",
    "\n",
    "You will be given an abstract of a scientific paper, an audience (e.g. high-school students) and a language, and you will have to explain the scientific paper it in a way that is understandable for the audience and translate your entire answer to given language. \n",
    "\n",
    "Please be concise and clear, make a summary and few bulletpoints. Please do not write any introductory sentences and keep your whole answer in a given language.\n",
    "    \n",
    "Audience: {audience}.\n",
    "    \n",
    "Language: {language}.\n",
    "    \n",
    "Abstract: {abstract}\n",
    "\"\"\"\n",
    ")"
   ]
  },
  {
   "cell_type": "code",
   "execution_count": 24,
   "metadata": {},
   "outputs": [],
   "source": [
    "prompt_template_from_gemini = PromptTemplate.from_template(\n",
    "    \"\"\"\n",
    "Imagine you're explaining a cool science discovery to a person from {audience} in {language} language.\n",
    "\n",
    "Briefly introduce the paper's topic in a way that would grab their attention.\n",
    "Explain the main question or problem the researchers were trying to answer in a simple and understandable way.\n",
    "Describe what the researchers did to investigate the question (e.g., experiments, observations, etc.).\n",
    "Summarize the key findings of the research in a way that would surprise or excite your audience.\n",
    "Briefly mention any limitations or future directions of the research, if relevant.\n",
    "Conclude by emphasizing the importance or potential impact of the findings in a language they can understand.\n",
    "\n",
    "Remember:\n",
    "\n",
    "Use simple language and avoid technical jargon (unless the topic of the paper is meant for that audience).\n",
    "Focus on the most interesting and engaging aspects of the research.\n",
    "Keep the summary concise and to the point (e.g., 3-5 sentences).\n",
    "Use {language} language.\n",
    "\n",
    "Tips:\n",
    "\n",
    "You can use metaphors, analogies, or relatable examples to explain complex concepts.\n",
    "Encourage questions and be prepared to explain things in more detail if needed.\n",
    "Make it fun and engaging!\n",
    "\n",
    "Optional:\n",
    "\n",
    "You can also personalize the prompt based on the specific details of the paper you're summarizing. For example, if the research has implications for everyday life, you can highlight those in your summary.\n",
    "I hope this template helps you write clear and engaging summaries of scientific paper abstracts for your chosen audience!\n",
    "\n",
    "Content:\n",
    "\n",
    "{abstract}\n",
    "\"\"\"\n",
    ")"
   ]
  },
  {
   "cell_type": "code",
   "execution_count": 29,
   "metadata": {},
   "outputs": [],
   "source": [
    "prompt_template.save(\"../prompts/icebreaker_bad.yaml\")"
   ]
  },
  {
   "cell_type": "code",
   "execution_count": 77,
   "metadata": {},
   "outputs": [],
   "source": [
    "my_prompt = prompt_template_from_gemini.format(audience=\"technical university graduates\", abstract=abstract, language=\"English\")"
   ]
  },
  {
   "cell_type": "code",
   "execution_count": 78,
   "metadata": {},
   "outputs": [
    {
     "data": {
      "text/plain": [
       "\"\\nImagine you're explaining a cool science discovery to a person from technical university graduates in English language.\\n\\nBriefly introduce the paper's topic in a way that would grab their attention.\\nExplain the main question or problem the researchers were trying to answer in a simple and understandable way.\\nDescribe what the researchers did to investigate the question (e.g., experiments, observations, etc.).\\nSummarize the key findings of the research in a way that would surprise or excite your audience.\\nBriefly mention any limitations or future directions of the research, if relevant.\\nConclude by emphasizing the importance or potential impact of the findings in a language they can understand.\\n\\nRemember:\\n\\nUse simple language and avoid technical jargon (unless the topic of the paper is meant for that audience).\\nFocus on the most interesting and engaging aspects of the research.\\nKeep the summary concise and to the point (e.g., 3-5 sentences).\\nUse English language.\\n\\nTips:\\n\\nYou can use metaphors, analogies, or relatable examples to explain complex concepts.\\nEncourage questions and be prepared to explain things in more detail if needed.\\nMake it fun and engaging!\\n\\nOptional:\\n\\nYou can also personalize the prompt based on the specific details of the paper you're summarizing. For example, if the research has implications for everyday life, you can highlight those in your summary.\\nI hope this template helps you write clear and engaging summaries of scientific paper abstracts for your chosen audience!\\n\\nContent:\\n\\nIn this work, we have focused on Timepix detectors coupled with the semi-insulating GaAs material sensor. We used undoped bulk GaAs material with the thickness of 350 μm. We prepared and tested four pixelated detectors with 165 μm and 220 μm pixel size with two versions of technology preparation, without and with wet chemically etched trenches around each pixel. We have carried out adjustment of GaAs Timepix detectors to optimize their performance. The energy calibration of one GaAs Timepix detector in Time-over-threshold mode was performed with the use of <SUP>241</SUP>Am and <SUP>133</SUP>Ba radioisotopes. We were able to detect γ-photons with the energy up to 160 keV. The X-ray imaging quality of GaAs Timepix detector was tested with X-ray source using various samples. After flat field we obtained very promising imaging performance of tested GaAs Timepix detectors.\\n\""
      ]
     },
     "execution_count": 78,
     "metadata": {},
     "output_type": "execute_result"
    }
   ],
   "source": [
    "my_prompt"
   ]
  },
  {
   "cell_type": "code",
   "execution_count": 79,
   "metadata": {},
   "outputs": [],
   "source": [
    "from langchain_openai import ChatOpenAI\n"
   ]
  },
  {
   "cell_type": "code",
   "execution_count": 80,
   "metadata": {},
   "outputs": [],
   "source": [
    "llm = ChatOpenAI(temperature=0, model_name=\"gpt-3.5-turbo\", streaming=True)\n"
   ]
  },
  {
   "cell_type": "code",
   "execution_count": 81,
   "metadata": {},
   "outputs": [
    {
     "name": "stdout",
     "output_type": "stream",
     "text": [
      "Imagine being able to detect and image X-rays with unprecedented precision and clarity. That's exactly what researchers have achieved in their latest study using a cutting-edge technology called Timepix detectors coupled with a special material called semi-insulating GaAs. \n",
      "\n",
      "The main question they were trying to answer was how to optimize the performance of these detectors and improve their imaging quality. To do this, they prepared and tested four pixelated detectors with different pixel sizes and technology preparations. They also carried out adjustments and energy calibrations using radioisotopes to ensure accurate detection of γ-photons.\n",
      "\n",
      "The key findings of their research are truly exciting. They were able to detect γ-photons with energies up to 160 keV, which is a significant improvement compared to previous technologies. Moreover, the X-ray imaging quality of the GaAs Timepix detectors was found to be very promising, providing high-resolution images with excellent clarity.\n",
      "\n",
      "While this research is a major breakthrough in X-ray imaging technology, there are still some limitations and future directions to explore. For example, further optimization of the detectors and testing with different samples could enhance their performance even more.\n",
      "\n",
      "The importance of these findings cannot be overstated. Improved X-ray imaging technology has the potential to revolutionize medical diagnostics, industrial inspections, and scientific research. With clearer and more detailed images, doctors can make more accurate diagnoses, engineers can detect flaws in materials more easily, and scientists can study complex structures with greater precision.\n",
      "\n",
      "In conclusion, this research represents a significant advancement in X-ray imaging technology. The ability to detect and image X-rays with higher energy and better resolution opens up a world of possibilities in various fields. The potential impact of this discovery on healthcare, industry, and scientific research is immense, and we can look forward to a future where X-ray imaging becomes even more powerful and effective."
     ]
    }
   ],
   "source": [
    "for chunk in llm.stream(my_prompt):\n",
    "    print(chunk.content, end=\"\", flush=True)"
   ]
  },
  {
   "cell_type": "code",
   "execution_count": null,
   "metadata": {},
   "outputs": [],
   "source": []
  }
 ],
 "metadata": {
  "kernelspec": {
   "display_name": "paperlight",
   "language": "python",
   "name": "python3"
  },
  "language_info": {
   "codemirror_mode": {
    "name": "ipython",
    "version": 3
   },
   "file_extension": ".py",
   "mimetype": "text/x-python",
   "name": "python",
   "nbconvert_exporter": "python",
   "pygments_lexer": "ipython3",
   "version": "3.12.1"
  }
 },
 "nbformat": 4,
 "nbformat_minor": 2
}
