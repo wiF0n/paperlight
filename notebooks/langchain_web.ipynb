{
 "cells": [
  {
   "cell_type": "code",
   "execution_count": 51,
   "metadata": {},
   "outputs": [],
   "source": [
    "import os\n",
    "from dotenv import load_dotenv\n",
    "\n",
    "from langchain.tools import Tool\n",
    "from langchain_community.utilities import GoogleSearchAPIWrapper\n",
    "from langchain_community.utilities import TextRequestsWrapper\n",
    "\n",
    "from bs4 import BeautifulSoup"
   ]
  },
  {
   "cell_type": "code",
   "execution_count": 2,
   "metadata": {},
   "outputs": [
    {
     "data": {
      "text/plain": [
       "True"
      ]
     },
     "execution_count": 2,
     "metadata": {},
     "output_type": "execute_result"
    }
   ],
   "source": [
    "load_dotenv()"
   ]
  },
  {
   "cell_type": "code",
   "execution_count": 36,
   "metadata": {},
   "outputs": [],
   "source": [
    "def top5_results(query):\n",
    "    search = GoogleSearchAPIWrapper()\n",
    "    return search.results(query, 5)"
   ]
  },
  {
   "cell_type": "code",
   "execution_count": 37,
   "metadata": {},
   "outputs": [],
   "source": [
    "tool = Tool(\n",
    "    name=\"Google Search\",\n",
    "    description=\"Search Google for recent results.\",\n",
    "    func=top5_results,\n",
    ")"
   ]
  },
  {
   "cell_type": "code",
   "execution_count": 34,
   "metadata": {},
   "outputs": [
    {
     "name": "stdout",
     "output_type": "stream",
     "text": [
      "Dec 1, 2016 ... Semi-insulating GaAs based detector of fast neutrons produced by D–T nuclear reaction. A. Šagátová1, D. Kubanda1, B. Zat'ko2, K. Sedlačková1 ...\n"
     ]
    }
   ],
   "source": [
    "print(tool.run(\"Kubanda\")[0][\"snippet\"])"
   ]
  },
  {
   "cell_type": "code",
   "execution_count": 61,
   "metadata": {},
   "outputs": [],
   "source": [
    "requests = TextRequestsWrapper()"
   ]
  },
  {
   "cell_type": "code",
   "execution_count": 62,
   "metadata": {},
   "outputs": [],
   "source": [
    "html_site = requests.get(\"https://iopscience.iop.org/article/10.1088/1748-0221/11/12/C12002\")"
   ]
  },
  {
   "cell_type": "code",
   "execution_count": 63,
   "metadata": {},
   "outputs": [
    {
     "data": {
      "text/plain": [
       "'<head><title>Radware Bot Manager Captcha</title><script type=\"text/javascript\">\\n\\twindow.SSJSInternal = 13231;\\n\\n\\tvar __uzdbm_1 = \"c00a347c-6f42-4b41-9290-b428a7bd964d\";\\n\\tvar __uzdbm_2 = \"MmYyNDJmMzgtODQyNy00MGY5LWFmNDYtZGEzNTc3Mzg4OWU5JDEwOS4yMzAuMTMuMTUz\";\\n\\t\\n\\t(function(w, d, e, u, c, g, a, b){\\n\\t\\tw[\"SSJSConnectorObj\"] = w[\"SSJSConnectorObj\"] || {ss_cid : c, domain_info: g};\\n\\t\\ta = d.createElement(e);\\n\\t\\ta.async = true;\\n\\t\\ta.src = u;\\n\\t\\tb = d.getElementsByTagName(e)[0];\\n\\t\\tb.parentNode.insertBefore(a, b);\\n\\t})(window,document,\"script\",\"https://cdn.perfdrive.com/aperture/aperture.js\",\"b8c3\",\"auto\");\\n</script>\\n\\n<script type=\"text/javascript\">\\n\\n!function(n){\"use strict\";function d(n,t){var r=(65535&n)+(65535&t);return(n>>16)+(t>>16)+(r>>16)<<16|65535&r}function f(n,t,r,e,o,u){return d((u=d(d(t,n),d(e,u)))<<o|u>>>32-o,r)}function l(n,t,r,e,o,u,c){return f(t&r|~t&e,n,t,o,u,c)}function g(n,t,r,e,o,u,c){return f(t&e|r&~e,n,t,o,u,c)}function v(n,t,r,e,o,u,c){return f(t^r^e,n,t,o,u,c)}function m(n,t,r,e,o,u,c){return f(r^(t|~e),n,t,o,u,c)}function c(n,t){var r,e,o,u;n[t>>5]|=128<<t%32,n[14+(t+64>>>9<<4)]=t;for(var c=1732584193,f=-271733879,i=-1732584194,a=271733878,h=0;h<n.length;h+=16)c=l(r=c,e=f,o=i,u=a,n[h],7,-680876936),a=l(a,c,f,i,n[h+1],12,-389564586),i=l(i,a,c,f,n[h+2],17,606105819),f=l(f,i,a,c,n[h+3],22,-1044525330),c=l(c,f,i,a,n[h+4],7,-176418897),a=l(a,c,f,i,n[h+5],12,1200080426),i=l(i,a,c,f,n[h+6],17,-1473231341),f=l(f,i,a,c,n[h+7],22,-45705983),c=l(c,f,i,a,n[h+8],7,1770035416),a=l(a,c,f,i,n[h+9],12,-1958414417),i=l(i,a,c,f,n[h+10],17,-42063),f=l(f,i,a,c,n[h+11],22,-1990404162),c=l(c,f,i,a,n[h+12],7,1804603682),a=l(a,c,f,i,n[h+13],12,-40341101),i=l(i,a,c,f,n[h+14],17,-1502002290),c=g(c,f=l(f,i,a,c,n[h+15],22,1236535329),i,a,n[h+1],5,-165796510),a=g(a,c,f,i,n[h+6],9,-1069501632),i=g(i,a,c,f,n[h+11],14,643717713),f=g(f,i,a,c,n[h],20,-373897302),c=g(c,f,i,a,n[h+5],5,-701558691),a=g(a,c,f,i,n[h+10],9,38016083),i=g(i,a,c,f,n[h+15],14,-660478335),f=g(f,i,a,c,n[h+4],20,-405537848),c=g(c,f,i,a,n[h+9],5,568446438),a=g(a,c,f,i,n[h+14],9,-1019803690),i=g(i,a,c,f,n[h+3],14,-187363961),f=g(f,i,a,c,n[h+8],20,1163531501),c=g(c,f,i,a,n[h+13],5,-1444681467),a=g(a,c,f,i,n[h+2],9,-51403784),i=g(i,a,c,f,n[h+7],14,1735328473),c=v(c,f=g(f,i,a,c,n[h+12],20,-1926607734),i,a,n[h+5],4,-378558),a=v(a,c,f,i,n[h+8],11,-2022574463),i=v(i,a,c,f,n[h+11],16,1839030562),f=v(f,i,a,c,n[h+14],23,-35309556),c=v(c,f,i,a,n[h+1],4,-1530992060),a=v(a,c,f,i,n[h+4],11,1272893353),i=v(i,a,c,f,n[h+7],16,-155497632),f=v(f,i,a,c,n[h+10],23,-1094730640),c=v(c,f,i,a,n[h+13],4,681279174),a=v(a,c,f,i,n[h],11,-358537222),i=v(i,a,c,f,n[h+3],16,-722521979),f=v(f,i,a,c,n[h+6],23,76029189),c=v(c,f,i,a,n[h+9],4,-640364487),a=v(a,c,f,i,n[h+12],11,-421815835),i=v(i,a,c,f,n[h+15],16,530742520),c=m(c,f=v(f,i,a,c,n[h+2],23,-995338651),i,a,n[h],6,-198630844),a=m(a,c,f,i,n[h+7],10,1126891415),i=m(i,a,c,f,n[h+14],15,-1416354905),f=m(f,i,a,c,n[h+5],21,-57434055),c=m(c,f,i,a,n[h+12],6,1700485571),a=m(a,c,f,i,n[h+3],10,-1894986606),i=m(i,a,c,f,n[h+10],15,-1051523),f=m(f,i,a,c,n[h+1],21,-2054922799),c=m(c,f,i,a,n[h+8],6,1873313359),a=m(a,c,f,i,n[h+15],10,-30611744),i=m(i,a,c,f,n[h+6],15,-1560198380),f=m(f,i,a,c,n[h+13],21,1309151649),c=m(c,f,i,a,n[h+4],6,-145523070),a=m(a,c,f,i,n[h+11],10,-1120210379),i=m(i,a,c,f,n[h+2],15,718787259),f=m(f,i,a,c,n[h+9],21,-343485551),c=d(c,r),f=d(f,e),i=d(i,o),a=d(a,u);return[c,f,i,a]}function i(n){for(var t=\"\",r=32*n.length,e=0;e<r;e+=8)t+=String.fromCharCode(n[e>>5]>>>e%32&255);return t}function a(n){var t=[];for(t[(n.length>>2)-1]=void 0,e=0;e<t.length;e+=1)t[e]=0;for(var r=8*n.length,e=0;e<r;e+=8)t[e>>5]|=(255&n.charCodeAt(e/8))<<e%32;return t}function e(n){for(var t,r=\"0123456789abcdef\",e=\"\",o=0;o<n.length;o+=1)t=n.charCodeAt(o),e+=r.charAt(t>>>4&15)+r.charAt(15&t);return e}function r(n){return unescape(encodeURIComponent(n))}function o(n){return i(c(a(n=r(n)),8*n.length))}function u(n,t){return function(n,t){var r,e=a(n),o=[],u=[];for(o[15]=u[15]=void 0,16<e.length&&(e=c(e,8*n.length)),r=0;r<16;r+=1)o[r]=909522486^e[r],u[r]=1549556828^e[r];return t=c(o.concat(a(t)),512+8*t.length),i(c(u.concat(t),640))}(r(n),r(t))}function t(n,t,r){return t?r?u(t,n):e(u(t,n)):r?o(n):e(o(n))}\"function\"==typeof define&&define.amd?define(function(){return t}):\"object\"==typeof module&&module.exports?module.exports=t:n.md5=t}(this);\\n// xgaxd\\n\\n</script>\\n\\n<script type=\"text/javascript\">\\n\\nvar _0x2bcc1a=_0x4525;function _0x4525(_0x56ed5f,_0x471f3c){var _0x3d387d=_0x3d38();return _0x4525=function(_0x4525c8,_0x59885c){_0x4525c8=_0x4525c8-0xdd;var _0x40f998=_0x3d387d[_0x4525c8];return _0x40f998;},_0x4525(_0x56ed5f,_0x471f3c);}(function(_0x4dcf4f,_0x3dd2ff){var _0x491d35=_0x4525,_0xe16f5f=_0x4dcf4f();while(!![]){try{var _0xc0f975=parseInt(_0x491d35(0x118))/0x1*(-parseInt(_0x491d35(0x139))/0x2)+parseInt(_0x491d35(0xfd))/0x3+-parseInt(_0x491d35(0xeb))/0x4*(-parseInt(_0x491d35(0xf3))/0x5)+parseInt(_0x491d35(0x127))/0x6+-parseInt(_0x491d35(0xf5))/0x7+parseInt(_0x491d35(0x131))/0x8*(parseInt(_0x491d35(0x103))/0x9)+parseInt(_0x491d35(0x126))/0xa*(-parseInt(_0x491d35(0xfa))/0xb);if(_0xc0f975===_0x3dd2ff)break;else _0xe16f5f[\\'push\\'](_0xe16f5f[\\'shift\\']());}catch(_0xce13b){_0xe16f5f[\\'push\\'](_0xe16f5f[\\'shift\\']());}}}(_0x3d38,0xdcc3a));var co=![],dbs=null,resOp=\\'\\',eMap={};function oco(){hOpenRad();}function ocs(){hSolvedRad();}function hOpenRad(){co=!![],mb3tx();}function hSolvedRad(){var _0xbbc631=_0x4525,_0x40038c=_0xbbc631(0x122),_0x1d98f9=_0xbbc631(0xdd);try{if(hcaptcha){var _0x90efea=hcaptcha[_0xbbc631(0x106)](),_0x4e1e31=hcaptcha[_0xbbc631(0x12e)]();_0x90efea[_0xbbc631(0x10b)]>=0xa&&(_0x40038c=_0x90efea[_0xbbc631(0x12c)](_0x90efea[_0xbbc631(0x10b)]-0xa)),_0x4e1e31[_0xbbc631(0x10b)]>=0xa&&(_0x1d98f9=_0x4e1e31[_0xbbc631(0x12c)](_0x4e1e31[\\'length\\']-0xa));}else _0x40038c=_0xbbc631(0xde),_0x1d98f9=_0xbbc631(0x135);}catch(_0x442f7d){_0x40038c=_0xbbc631(0x11f),_0x1d98f9=_0xbbc631(0x125);}ldlnb(_0x40038c,_0x1d98f9),mb4tx();}function xrcpc(_0x46e89f,_0x914ec3,_0x417822){var _0x4d0996=_0x4525,_0xea909e;if(_0x417822){var _0x94ca69=new Date();_0x94ca69[_0x4d0996(0xe1)](_0x94ca69[_0x4d0996(0x124)]()+_0x417822*0x3c*0x3e8),_0xea909e=_0x4d0996(0xf1)+_0x94ca69[_0x4d0996(0x134)]();}else _0xea909e=\\'\\';document[_0x4d0996(0x10c)]=_0x46e89f+\\'=\\'+_0x914ec3+_0xea909e+_0x4d0996(0x105);}function otkhd(_0x4ef247){var _0x35107a=_0x4525,_0x3ad9c0=\\'\\',_0x40a960=\\'\\',_0x1d94f0=[];for(var _0x38a209 in _0x4ef247){_0x1d94f0[_0x35107a(0x12f)]([_0x38a209,_0x4ef247[_0x38a209]]);}while(_0x1d94f0[_0x35107a(0x10b)]>0x0){var _0x1bbb52=Math[_0x35107a(0x123)](Math[_0x35107a(0x102)]()*_0x1d94f0[_0x35107a(0x10b)]),_0x592ac7=_0x1d94f0[_0x35107a(0x108)](_0x1bbb52,0x1)[0x0],_0x38a209=_0x592ac7[0x0],_0x10e0ce=_0x592ac7[0x1];_0x40a960+=_0x10e0ce,_0x3ad9c0+=_0x38a209;}return _0x40a960+_0x3ad9c0+getRandomNumber()[_0x35107a(0x121)]();}function getRandomNumber(){var _0x340834=_0x4525;const _0x17b594=0x2710,_0x2256e5=0x1869f;return Math[\\'floor\\'](Math[_0x340834(0x102)]()*(_0x2256e5-_0x17b594+0x1))+_0x17b594;}function mdhx(_0x15bc86){var _0x27a49e=_0x4525;try{return md5(_0x15bc86);}catch(_0x3b9234){return _0x27a49e(0xe7);}}function getQueryParams(_0x377cfb){var _0x2a128d=_0x4525;const _0x25f1bd=_0x377cfb[_0x2a128d(0xea)](_0x377cfb[_0x2a128d(0xe3)](\\'?\\')+0x1)[_0x2a128d(0x109)](\\'&\\'),_0x345fa0={};return _0x25f1bd[_0x2a128d(0x129)](_0x5b3f94=>{var _0x151f94=_0x2a128d;const [_0x19cf94,_0x1b7c22]=_0x5b3f94[_0x151f94(0x109)](\\'=\\');_0x345fa0[_0x19cf94]=decodeURIComponent(_0x1b7c22);}),_0x345fa0;}function getPidDigestSalt(){var _0x55e47a=_0x4525;try{var _0x2c6533=getQueryParams(window[_0x55e47a(0x101)][_0x55e47a(0x11a)]),_0x3d26da=_0x2c6533[_0x55e47a(0x107)]!==undefined?_0x2c6533[_0x55e47a(0x107)]:_0x2c6533[_0x55e47a(0x11d)]!==undefined?_0x2c6533[_0x55e47a(0x11d)]:_0x55e47a(0x113);return _0x3d26da[\\'substring\\'](_0x3d26da[\\'length\\']-0x5);}catch(_0x2a6f3a){return _0x55e47a(0x116);}}function ldlnb(_0xc3f08d,_0x2508cb){var _0x3b7f44=_0x4525;try{var _0x1ed297=getRandomNumber()[_0x3b7f44(0x121)](),_0x407316=getRandomNumber()[_0x3b7f44(0x121)](),_0x3275e8=Math[_0x3b7f44(0x123)](Date[_0x3b7f44(0x12d)]()/0x3e8)[_0x3b7f44(0x121)](),_0x2d5028=_0x3275e8[_0x3b7f44(0x12c)](0x0,0x5),_0x8fc2e=_0x3275e8[_0x3b7f44(0x12c)](0x5);const _0x8c021=co?\\'1\\':\\'0\\',_0x52c02e=\\'1\\',_0x59c6cd=getPidDigestSalt();var _0x28913a={0x1:_0x1ed297,0x2:_0x52c02e,0x3:_0x2d5028,0x4:_0x8c021,0x5:_0x407316,0x6:_0x8fc2e,0x7:_0x59c6cd,0x8:_0xc3f08d,0x9:_0x2508cb},_0x16b301=otkhd(_0x28913a);const _0x25859a=mdhx(_0x16b301);var _0xad1873=_0x3b7f44(0x10d)+_0x59c6cd,_0x2c65c7=_0x16b301+_0x25859a,_0x22e8ba=document[_0x3b7f44(0x133)](_0x3b7f44(0xe0));_0x22e8ba&&(_0x22e8ba[_0x3b7f44(0x137)]=_0x2c65c7),xrcpc(_0xad1873,_0x2c65c7,0x2);}catch(_0x43d88e){eMap[_0x3b7f44(0x114)]=0x1,setErrCook();}}function _0x3d38(){var _0x24763d=[\\'7473144MDvYQh\\',\\'changedTouches\\',\\'map\\',\\'touchstart\\',\\'csso\\',\\'substring\\',\\'now\\',\\'getResponse\\',\\'push\\',\\'height\\',\\'33472dGoFDx\\',\\'blk\\',\\'getElementById\\',\\'toGMTString\\',\\'Udr9HvhYUw\\',\\'cbfer\\',\\'value\\',\\'style\\',\\'1392582nVaYsH\\',\\'Bdr9HvhYUw\\',\\'Unyf7MTcBK\\',\\'hidden\\',\\'cf_input\\',\\'setTime\\',\\'clientX\\',\\'indexOf\\',\\'addEventListener\\',\\'join\\',\\'width\\',\\'ecb5e100e5a9a3e7f6d1fd97512215282\\',\\'div\\',\\'touchmove\\',\\'slice\\',\\'108WvGQDk\\',\\'src\\',\\'visibility\\',\\'getElementsByTagName\\',\\'touchend\\',\\'replace\\',\\';\\\\x20expires=\\',\\'cbfsc\\',\\'331365jxyqHU\\',\\'keys\\',\\'6553568BQPsCr\\',\\'toLowerCase\\',\\'cbft\\',\\'tcl\\',\\'createElement\\',\\'33550SFjKeB\\',\\'innerHTML\\',\\'mouseup\\',\\'1309596AaBgvu\\',\\'cssl\\',\\'visible\\',\\'cbfm\\',\\'location\\',\\'random\\',\\'2313xowtet\\',\\'outerHTML\\',\\';\\\\x20path=/\\',\\'getRespKey\\',\\'ssi\\',\\'splice\\',\\'split\\',\\'iframe\\',\\'length\\',\\'cookie\\',\\'cbf\\',\\'clientY\\',\\'display\\',\\'origin\\',\\'body\\',\\'hdn\\',\\'00000\\',\\'csol\\',\\'className\\',\\'0xcvd\\',\\'DOMContentLoaded\\',\\'1uLMBRL\\',\\'touches\\',\\'href\\',\\'querySelector\\',\\'stringify\\',\\'iid\\',\\'includes\\',\\'Enyf7MTcBK\\',\\'block\\',\\'toString\\',\\'Hnyf7MTcBK\\',\\'floor\\',\\'getTime\\',\\'Edr9HvhYUw\\',\\'6590zTgTNp\\'];_0x3d38=function(){return _0x24763d;};return _0x3d38();}try{document[_0x2bcc1a(0xe4)](_0x2bcc1a(0x117),function(){var _0xf939d9=_0x2bcc1a,_0x46f64c,_0x57f4ff=0x0,_0x8cef88=_0xf939d9(0x100)+getPidDigestSalt(),_0x153299=0x0,_0x4319a6=0x0,_0x40cf8b=0x0,_0x4354d5=0x0;document[_0xf939d9(0xe4)](\\'mousedown\\',function(_0x28fe97){_0x46f64c=new Date()[\\'getTime\\']();}),document[_0xf939d9(0xe4)](_0xf939d9(0xfc),function(_0x332420){var _0xd1e24=_0xf939d9;if(_0x46f64c){_0x4354d5=new Date()[_0xd1e24(0x124)](),_0x40cf8b=_0x4354d5-_0x46f64c,_0x153299=_0x332420[\\'x\\'],_0x4319a6=_0x332420[\\'y\\'];var _0x1ea2e0=_0x153299+\\'-\\'+_0x4319a6+\\'-\\'+_0x40cf8b+\\'-\\'+_0x57f4ff+\\'-\\'+_0x4354d5;xrcpc(_0x8cef88,_0x1ea2e0,0x2),_0x46f64c=null;}}),document[_0xf939d9(0xe4)](\\'mousemove\\',function(_0x3d5b94){_0x57f4ff+=0x1;}),setInterval(function(){var _0x4fceea=_0x153299+\\'-\\'+_0x4319a6+\\'-\\'+_0x40cf8b+\\'-\\'+_0x57f4ff+\\'-\\'+_0x4354d5;xrcpc(_0x8cef88,_0x4fceea,0x2);},0x7d0);});}catch(_0x51666f){eMap[\\'mcl\\']=0x1,setErrCook();}try{document[_0x2bcc1a(0xe4)](_0x2bcc1a(0x117),function(){var _0x468555=_0x2bcc1a,_0x5e9517,_0xb0612f=0x0,_0x320b06=_0x468555(0xf7)+getPidDigestSalt(),_0x2239ab=0x0,_0x2fa3f4=0x0,_0x4c6db4=0x0,_0x35a8d5=0x0;document[\\'addEventListener\\'](_0x468555(0x12a),function(_0x5251f9){var _0x1615aa=_0x468555,_0x57e3b7=_0x5251f9[_0x1615aa(0x119)][0x0];_0x2de1f2(_0x57e3b7[_0x1615aa(0xe2)],_0x57e3b7[_0x1615aa(0x10e)]);}),document[\\'addEventListener\\'](_0x468555(0xef),function(_0x1eae0f){var _0x52ca13=_0x468555,_0x11aaba=_0x1eae0f[_0x52ca13(0x128)][0x0];_0xd2e51c(_0x11aaba[\\'clientX\\'],_0x11aaba[\\'clientY\\']);});function _0x2de1f2(_0x1f9aa8,_0x3530cd){var _0x1334fb=_0x468555;_0x5e9517=new Date()[_0x1334fb(0x124)](),_0x2239ab=_0x1f9aa8,_0x2fa3f4=_0x3530cd;}function _0xd2e51c(_0x240a1d,_0x32ccf3){var _0xafe720=_0x468555;if(_0x5e9517){_0x35a8d5=new Date()[_0xafe720(0x124)](),_0x4c6db4=_0x35a8d5-_0x5e9517,_0x2239ab=_0x240a1d,_0x2fa3f4=_0x32ccf3;var _0x1057af=_0x2239ab+\\'-\\'+_0x2fa3f4+\\'-\\'+_0x4c6db4+\\'-\\'+_0xb0612f+\\'-\\'+_0x35a8d5;xrcpc(_0x320b06,_0x1057af,0x2),_0x5e9517=null;}}document[_0x468555(0xe4)](_0x468555(0xe9),function(_0x147479){_0xb0612f+=0x1;}),setInterval(function(){var _0x149d63=_0x2239ab+\\'-\\'+_0x2fa3f4+\\'-\\'+_0x4c6db4+\\'-\\'+_0xb0612f+\\'-\\'+_0x35a8d5;xrcpc(_0x320b06,_0x149d63,0x2);},0x7d0);});}catch(_0xfb7b66){eMap[_0x2bcc1a(0xf8)]=0x1,setErrCook();}try{document[_0x2bcc1a(0xe4)](_0x2bcc1a(0x117),function(){setInterval(function(){var _0xb3d25b=_0x4525,_0x5373df={},_0x14c5f3=document[_0xb3d25b(0xee)](\\'*\\');for(var _0x1157e5=0x0;_0x1157e5<_0x14c5f3[_0xb3d25b(0x10b)];_0x1157e5++){var _0x208960=_0x14c5f3[_0x1157e5],_0xec715b=_0x208960[_0xb3d25b(0x115)][_0xb3d25b(0x109)](\\'\\\\x20\\');for(var _0x5b6ea5=0x0;_0x5b6ea5<_0xec715b[_0xb3d25b(0x10b)];_0x5b6ea5++){var _0x523038=_0xec715b[_0x5b6ea5][\\'trim\\']();_0x523038!==\\'\\'&&(_0x5373df[_0x523038]=!![]);}}var _0x507f88=Object[_0xb3d25b(0xf4)](_0x5373df),_0x4c3aef=_0x507f88[\\'join\\'](\\',\\'),_0x222c38=\\'cbfcl\\'+getPidDigestSalt();xrcpc(_0x222c38,_0x4c3aef,0x2);},0x7d0);});}catch(_0x205d66){}try{document[_0x2bcc1a(0xe4)](\\'DOMContentLoaded\\',function(){setInterval(function(){var _0x213c3c=_0x4525,_0x263c9f=document[\\'documentElement\\'][_0x213c3c(0x104)],_0x42ca4b=document[_0x213c3c(0xf9)](_0x213c3c(0xe8));_0x42ca4b[_0x213c3c(0xfb)]=_0x263c9f;var _0x1e50ab=_0x42ca4b[\\'querySelectorAll\\'](\\'script\\'),_0xc91ac1=[];for(var _0x5a8ac0=0x0;_0x5a8ac0<_0x1e50ab[_0x213c3c(0x10b)];_0x5a8ac0++){var _0x36ed83=_0x1e50ab[_0x5a8ac0][_0x213c3c(0xec)];if(_0x36ed83){var _0x100042=new URL(_0x36ed83)[_0x213c3c(0x110)];!_0xc91ac1[_0x213c3c(0x11e)](_0x100042)&&_0xc91ac1[_0x213c3c(0x12f)](_0x100042);}}var _0x1b293b=_0xc91ac1[_0x213c3c(0xe5)](\\',\\'),_0x538caa=_0x213c3c(0xf2)+getPidDigestSalt();xrcpc(_0x538caa,_0x1b293b,0x2);},0x7d0);});}catch(_0x4d7cd7){}function hcD(){var _0x300b83=_0x2bcc1a,_0x347479=document[_0x300b83(0x111)][_0x300b83(0xee)](\\'div\\'),_0x8bef36=null;for(var _0x58bf43=_0x347479[_0x300b83(0x10b)]-0x1;_0x58bf43>=0x0;_0x58bf43--){var _0x447804=_0x347479[_0x58bf43];if(_0x447804[\\'parentElement\\'][\\'tagName\\'][_0x300b83(0xf6)]()===_0x300b83(0x111)){_0x8bef36=_0x447804;break;}}var _0x410e64=_0x8bef36[\\'getElementsByTagName\\'](_0x300b83(0x10a));if(_0x410e64[\\'length\\']>0x0&&_0x410e64[0x0][_0x300b83(0xec)][_0x300b83(0x11e)](\\'hcaptcha\\'))return _0x8bef36;return null;}try{document[_0x2bcc1a(0xe4)](_0x2bcc1a(0x117),function(){setTimeout(function(){var _0x5bf0db=hcD();if(_0x5bf0db==null)return;dbs=_0x5bf0db[\\'outerHTML\\'];},0x1f4);});}catch(_0xe0fb32){eMap[\\'csil\\']=0x1,setErrCook();}function mb3tx(){var _0x552db9=_0x2bcc1a;try{var _0x2fd85e=\\'3\\',_0x482953=\\'xz\\',_0x5ad5bd=\\'y\\',_0x5d294c=\\'k\\',_0x4edb80=\\'0\\',_0xfc35c7=\\'0\\',_0x429954=hcD();if(_0x429954==null)return;var _0x11cc5c=_0x429954[_0x552db9(0x104)];dbs!=null&&(_0x2fd85e=_0x11cc5c!=dbs?\\'1\\':\\'2\\');_0x482953=_0x429954[_0x552db9(0x138)][\\'display\\'],_0x5ad5bd=_0x429954[_0x552db9(0x138)][\\'opacity\\'],_0x5d294c=_0x429954[_0x552db9(0x138)][_0x552db9(0xed)];_0x482953==_0x552db9(0x120)&&(_0x482953=\\'blk\\');_0x5d294c==\\'visible\\'&&(_0x5d294c=\\'vbe\\');_0x5d294c==_0x552db9(0xdf)&&(_0x5d294c=_0x552db9(0x112));var _0x5860db=_0x429954[_0x552db9(0x11b)](_0x552db9(0xe8));_0x4edb80=_0x5860db[\\'style\\'][_0x552db9(0xe6)],_0xfc35c7=_0x5860db[_0x552db9(0x138)][\\'height\\'];var _0x1344c6=Math[_0x552db9(0x123)](Date[\\'now\\']()/0x3e8)[\\'toString\\']();resOp=_0x1344c6+\\'-\\'+_0x2fd85e+\\'-\\'+_0x5ad5bd+\\'-\\'+_0x5d294c+\\'-\\'+_0x482953+\\'-\\'+_0xfc35c7[_0x552db9(0xf0)](\\'px\\',\\'\\')+\\'-\\'+_0x4edb80[\\'replace\\'](\\'px\\',\\'\\');}catch(_0x3657f2){eMap[_0x552db9(0x12b)]=0x1,setErrCook();}}function mb4tx(){var _0x4171b7=_0x2bcc1a;try{var _0x5db44e=\\'3\\',_0x45500a=\\'xz\\',_0x8450f7=\\'y\\',_0xc8eb92=\\'k\\',_0x1934e8=\\'0\\',_0x515325=\\'0\\',_0x324ee1=hcD();if(_0x324ee1==null)return;var _0x26ad27=_0x324ee1[_0x4171b7(0x104)];dbs!=null&&(_0x5db44e=_0x26ad27!=dbs?\\'1\\':\\'2\\');_0x45500a=_0x324ee1[_0x4171b7(0x138)][_0x4171b7(0x10f)],_0x8450f7=_0x324ee1[\\'style\\'][\\'opacity\\'],_0xc8eb92=_0x324ee1[_0x4171b7(0x138)][_0x4171b7(0xed)];_0x45500a==_0x4171b7(0x120)&&(_0x45500a=_0x4171b7(0x132));_0xc8eb92==_0x4171b7(0xff)&&(_0xc8eb92=\\'vbe\\');_0xc8eb92==_0x4171b7(0xdf)&&(_0xc8eb92=\\'hdn\\');var _0xe2a541=_0x324ee1[_0x4171b7(0x11b)](_0x4171b7(0xe8));_0x1934e8=_0xe2a541[_0x4171b7(0x138)][_0x4171b7(0xe6)],_0x515325=_0xe2a541[_0x4171b7(0x138)][_0x4171b7(0x130)];var _0x22e627=_0x5db44e+\\'-\\'+_0x8450f7+\\'-\\'+_0xc8eb92+\\'-\\'+_0x45500a+\\'-\\'+_0x515325[_0x4171b7(0xf0)](\\'px\\',\\'\\')+\\'-\\'+_0x1934e8[_0x4171b7(0xf0)](\\'px\\',\\'\\'),_0x78b36e=\\'cbfcs\\'+getPidDigestSalt();xrcpc(_0x78b36e,resOp+\\'::\\'+_0x22e627,0x2);}catch(_0x8334ea){eMap[_0x4171b7(0xfe)]=0x1,setErrCook();}}function setErrCook(){var _0x2ad795=_0x2bcc1a;xrcpc(_0x2ad795(0x136)+getPidDigestSalt(),JSON[_0x2ad795(0x11c)](eMap),0x2);}\\n\\n</script>\\n\\n</head><div>\\n  <link rel=\"stylesheet\" type=\"text/css\" href=\"https://captcha.perfdrive.com/captcha-public/css/shieldsquare_styles.min.css\">\\n</div>\\n<div class=\"container\">\\n  <div>\\n    <div>\\n      <img src=\"https://cdn.images.iop.org/website-logos/IOP-Publishing-300x83.jpg\" alt=\"Captcha Page\">\\n    </div>\\n  </div>\\n  <div>\\n    <div>\\n      <h2>We apologize for the inconvenience...</h2>\\n      <p>To ensure we keep this website safe, please can you confirm you are a human by ticking the box below. </p>\\n      <p>If you are unable to complete the above request please contact us using the below link, providing a screenshot of your experience.</p>\\n      <p>\\n        <a href=\"https://ioppublishing.org/contacts/\">https://ioppublishing.org/contacts/</a>\\n      </p>\\n    </div>\\n  </div>\\n  <div class=\"row\">\\n    <center>\\n      <strong>Incident ID: 2f242f38-8427-40f9-af46-da35773889e9</strong>\\n    </center>\\n\\n    <center>\\n       <div class=\"captcha-mid\">\\n            <!-- *Required - Uncomment the below commented php code and remove \\'echo 1234\\' before submit -->\\n            <form action=\"\" method=POST style=\"width:300px;margin-left:auto;margin-right:auto;\">\\n            <script type=\"text/javascript\" src=\"https://hcaptcha.com/1/api.js?recaptchacompat=off\"></script>\\n            <div class=\"h-captcha\" data-sitekey=\"ae73173b-7003-44e0-bc87-654d0dab8b75\" data-open-callback=\"hOpenRad\" data-callback=\"hSolvedRad\"></div><br>\\n            <center><input id=\"cf_input\" type=\"hidden\" name=\"cfi\" value=\"\">\\n            <br><input type=\"submit\" class=\"btn btn-success btn-sm\" Value=\"Submit\"><br></center>\\n            </form>\\n                                                     </div>\\n    </center>\\n  </div>\\n</div>'"
      ]
     },
     "execution_count": 63,
     "metadata": {},
     "output_type": "execute_result"
    }
   ],
   "source": [
    "html_site"
   ]
  },
  {
   "cell_type": "code",
   "execution_count": 44,
   "metadata": {},
   "outputs": [],
   "source": [
    "def extract_string(html_string):\n",
    "  \"\"\"\n",
    "  Extracts the string between \"<div class=\\\"article-text wd-jnl-art-abstract cf\\\" itemprop=\\\"description\\\">\" and \"</div>\"\n",
    "\n",
    "  Args:\n",
    "    html_string: The HTML string to extract the text from.\n",
    "\n",
    "  Returns:\n",
    "    The extracted string, or None if not found.\n",
    "  \"\"\"\n",
    "\n",
    "  start_index = html_string.find('<div class=\"article-text wd-jnl-art-abstract cf\" itemprop=\"description\">')\n",
    "  end_index = html_string.find('</div>', start_index)\n",
    "\n",
    "  if start_index == -1 or end_index == -1:\n",
    "    return None\n",
    "\n",
    "  # Skip past opening tag and any leading whitespace\n",
    "  substring = html_string[start_index + len('<div class=\"article-text wd-jnl-art-abstract cf\" itemprop=\"description\">'):end_index]\n",
    "  return substring.strip()\n",
    "\n",
    "# Example usage\n",
    "html_string = \"\"\"<div class=\"article-text wd-jnl-art-abstract cf\" itemprop=\"description\"> <p>STRING TO EXTRACT.</p> </div>\"\"\"\n",
    "extracted_string = extract_string(html_string)"
   ]
  },
  {
   "cell_type": "code",
   "execution_count": 50,
   "metadata": {},
   "outputs": [],
   "source": [
    "extract_string(html_site)"
   ]
  },
  {
   "cell_type": "code",
   "execution_count": 60,
   "metadata": {},
   "outputs": [
    {
     "data": {
      "text/plain": [
       "'<head><title>Radware Bot Manager Captcha</title><script type=\"text/javascript\">\\n\\twindow.SSJSInternal = 13231;\\n\\n\\tvar __uzdbm_1 = \"4a33701d-93f9-4005-acef-bcc4c20c46b5\";\\n\\tvar __uzdbm_2 = \"ZDk5N2IxN2MtODQyNy00MTllLWFjZWYtOTdiMTFhOWY0ZjEzJDEwOS4yMzAuMTMuMTUz\";\\n\\t\\n\\t(function(w, d, e, u, c, g, a, b){\\n\\t\\tw[\"SSJSConnectorObj\"] = w[\"SSJSConnectorObj\"] || {ss_cid : c, domain_info: g};\\n\\t\\ta = d.createElement(e);\\n\\t\\ta.async = true;\\n\\t\\ta.src = u;\\n\\t\\tb = d.getElementsByTagName(e)[0];\\n\\t\\tb.parentNode.insertBefore(a, b);\\n\\t})(window,document,\"script\",\"https://cdn.perfdrive.com/aperture/aperture.js\",\"b8c3\",\"auto\");\\n</script>\\n\\n<script type=\"text/javascript\">\\n\\n!function(n){\"use strict\";function d(n,t){var r=(65535&n)+(65535&t);return(n>>16)+(t>>16)+(r>>16)<<16|65535&r}function f(n,t,r,e,o,u){return d((u=d(d(t,n),d(e,u)))<<o|u>>>32-o,r)}function l(n,t,r,e,o,u,c){return f(t&r|~t&e,n,t,o,u,c)}function g(n,t,r,e,o,u,c){return f(t&e|r&~e,n,t,o,u,c)}function v(n,t,r,e,o,u,c){return f(t^r^e,n,t,o,u,c)}function m(n,t,r,e,o,u,c){return f(r^(t|~e),n,t,o,u,c)}function c(n,t){var r,e,o,u;n[t>>5]|=128<<t%32,n[14+(t+64>>>9<<4)]=t;for(var c=1732584193,f=-271733879,i=-1732584194,a=271733878,h=0;h<n.length;h+=16)c=l(r=c,e=f,o=i,u=a,n[h],7,-680876936),a=l(a,c,f,i,n[h+1],12,-389564586),i=l(i,a,c,f,n[h+2],17,606105819),f=l(f,i,a,c,n[h+3],22,-1044525330),c=l(c,f,i,a,n[h+4],7,-176418897),a=l(a,c,f,i,n[h+5],12,1200080426),i=l(i,a,c,f,n[h+6],17,-1473231341),f=l(f,i,a,c,n[h+7],22,-45705983),c=l(c,f,i,a,n[h+8],7,1770035416),a=l(a,c,f,i,n[h+9],12,-1958414417),i=l(i,a,c,f,n[h+10],17,-42063),f=l(f,i,a,c,n[h+11],22,-1990404162),c=l(c,f,i,a,n[h+12],7,1804603682),a=l(a,c,f,i,n[h+13],12,-40341101),i=l(i,a,c,f,n[h+14],17,-1502002290),c=g(c,f=l(f,i,a,c,n[h+15],22,1236535329),i,a,n[h+1],5,-165796510),a=g(a,c,f,i,n[h+6],9,-1069501632),i=g(i,a,c,f,n[h+11],14,643717713),f=g(f,i,a,c,n[h],20,-373897302),c=g(c,f,i,a,n[h+5],5,-701558691),a=g(a,c,f,i,n[h+10],9,38016083),i=g(i,a,c,f,n[h+15],14,-660478335),f=g(f,i,a,c,n[h+4],20,-405537848),c=g(c,f,i,a,n[h+9],5,568446438),a=g(a,c,f,i,n[h+14],9,-1019803690),i=g(i,a,c,f,n[h+3],14,-187363961),f=g(f,i,a,c,n[h+8],20,1163531501),c=g(c,f,i,a,n[h+13],5,-1444681467),a=g(a,c,f,i,n[h+2],9,-51403784),i=g(i,a,c,f,n[h+7],14,1735328473),c=v(c,f=g(f,i,a,c,n[h+12],20,-1926607734),i,a,n[h+5],4,-378558),a=v(a,c,f,i,n[h+8],11,-2022574463),i=v(i,a,c,f,n[h+11],16,1839030562),f=v(f,i,a,c,n[h+14],23,-35309556),c=v(c,f,i,a,n[h+1],4,-1530992060),a=v(a,c,f,i,n[h+4],11,1272893353),i=v(i,a,c,f,n[h+7],16,-155497632),f=v(f,i,a,c,n[h+10],23,-1094730640),c=v(c,f,i,a,n[h+13],4,681279174),a=v(a,c,f,i,n[h],11,-358537222),i=v(i,a,c,f,n[h+3],16,-722521979),f=v(f,i,a,c,n[h+6],23,76029189),c=v(c,f,i,a,n[h+9],4,-640364487),a=v(a,c,f,i,n[h+12],11,-421815835),i=v(i,a,c,f,n[h+15],16,530742520),c=m(c,f=v(f,i,a,c,n[h+2],23,-995338651),i,a,n[h],6,-198630844),a=m(a,c,f,i,n[h+7],10,1126891415),i=m(i,a,c,f,n[h+14],15,-1416354905),f=m(f,i,a,c,n[h+5],21,-57434055),c=m(c,f,i,a,n[h+12],6,1700485571),a=m(a,c,f,i,n[h+3],10,-1894986606),i=m(i,a,c,f,n[h+10],15,-1051523),f=m(f,i,a,c,n[h+1],21,-2054922799),c=m(c,f,i,a,n[h+8],6,1873313359),a=m(a,c,f,i,n[h+15],10,-30611744),i=m(i,a,c,f,n[h+6],15,-1560198380),f=m(f,i,a,c,n[h+13],21,1309151649),c=m(c,f,i,a,n[h+4],6,-145523070),a=m(a,c,f,i,n[h+11],10,-1120210379),i=m(i,a,c,f,n[h+2],15,718787259),f=m(f,i,a,c,n[h+9],21,-343485551),c=d(c,r),f=d(f,e),i=d(i,o),a=d(a,u);return[c,f,i,a]}function i(n){for(var t=\"\",r=32*n.length,e=0;e<r;e+=8)t+=String.fromCharCode(n[e>>5]>>>e%32&255);return t}function a(n){var t=[];for(t[(n.length>>2)-1]=void 0,e=0;e<t.length;e+=1)t[e]=0;for(var r=8*n.length,e=0;e<r;e+=8)t[e>>5]|=(255&n.charCodeAt(e/8))<<e%32;return t}function e(n){for(var t,r=\"0123456789abcdef\",e=\"\",o=0;o<n.length;o+=1)t=n.charCodeAt(o),e+=r.charAt(t>>>4&15)+r.charAt(15&t);return e}function r(n){return unescape(encodeURIComponent(n))}function o(n){return i(c(a(n=r(n)),8*n.length))}function u(n,t){return function(n,t){var r,e=a(n),o=[],u=[];for(o[15]=u[15]=void 0,16<e.length&&(e=c(e,8*n.length)),r=0;r<16;r+=1)o[r]=909522486^e[r],u[r]=1549556828^e[r];return t=c(o.concat(a(t)),512+8*t.length),i(c(u.concat(t),640))}(r(n),r(t))}function t(n,t,r){return t?r?u(t,n):e(u(t,n)):r?o(n):e(o(n))}\"function\"==typeof define&&define.amd?define(function(){return t}):\"object\"==typeof module&&module.exports?module.exports=t:n.md5=t}(this);\\n// xgaxd\\n\\n</script>\\n\\n<script type=\"text/javascript\">\\n\\nvar _0x2bcc1a=_0x4525;function _0x4525(_0x56ed5f,_0x471f3c){var _0x3d387d=_0x3d38();return _0x4525=function(_0x4525c8,_0x59885c){_0x4525c8=_0x4525c8-0xdd;var _0x40f998=_0x3d387d[_0x4525c8];return _0x40f998;},_0x4525(_0x56ed5f,_0x471f3c);}(function(_0x4dcf4f,_0x3dd2ff){var _0x491d35=_0x4525,_0xe16f5f=_0x4dcf4f();while(!![]){try{var _0xc0f975=parseInt(_0x491d35(0x118))/0x1*(-parseInt(_0x491d35(0x139))/0x2)+parseInt(_0x491d35(0xfd))/0x3+-parseInt(_0x491d35(0xeb))/0x4*(-parseInt(_0x491d35(0xf3))/0x5)+parseInt(_0x491d35(0x127))/0x6+-parseInt(_0x491d35(0xf5))/0x7+parseInt(_0x491d35(0x131))/0x8*(parseInt(_0x491d35(0x103))/0x9)+parseInt(_0x491d35(0x126))/0xa*(-parseInt(_0x491d35(0xfa))/0xb);if(_0xc0f975===_0x3dd2ff)break;else _0xe16f5f[\\'push\\'](_0xe16f5f[\\'shift\\']());}catch(_0xce13b){_0xe16f5f[\\'push\\'](_0xe16f5f[\\'shift\\']());}}}(_0x3d38,0xdcc3a));var co=![],dbs=null,resOp=\\'\\',eMap={};function oco(){hOpenRad();}function ocs(){hSolvedRad();}function hOpenRad(){co=!![],mb3tx();}function hSolvedRad(){var _0xbbc631=_0x4525,_0x40038c=_0xbbc631(0x122),_0x1d98f9=_0xbbc631(0xdd);try{if(hcaptcha){var _0x90efea=hcaptcha[_0xbbc631(0x106)](),_0x4e1e31=hcaptcha[_0xbbc631(0x12e)]();_0x90efea[_0xbbc631(0x10b)]>=0xa&&(_0x40038c=_0x90efea[_0xbbc631(0x12c)](_0x90efea[_0xbbc631(0x10b)]-0xa)),_0x4e1e31[_0xbbc631(0x10b)]>=0xa&&(_0x1d98f9=_0x4e1e31[_0xbbc631(0x12c)](_0x4e1e31[\\'length\\']-0xa));}else _0x40038c=_0xbbc631(0xde),_0x1d98f9=_0xbbc631(0x135);}catch(_0x442f7d){_0x40038c=_0xbbc631(0x11f),_0x1d98f9=_0xbbc631(0x125);}ldlnb(_0x40038c,_0x1d98f9),mb4tx();}function xrcpc(_0x46e89f,_0x914ec3,_0x417822){var _0x4d0996=_0x4525,_0xea909e;if(_0x417822){var _0x94ca69=new Date();_0x94ca69[_0x4d0996(0xe1)](_0x94ca69[_0x4d0996(0x124)]()+_0x417822*0x3c*0x3e8),_0xea909e=_0x4d0996(0xf1)+_0x94ca69[_0x4d0996(0x134)]();}else _0xea909e=\\'\\';document[_0x4d0996(0x10c)]=_0x46e89f+\\'=\\'+_0x914ec3+_0xea909e+_0x4d0996(0x105);}function otkhd(_0x4ef247){var _0x35107a=_0x4525,_0x3ad9c0=\\'\\',_0x40a960=\\'\\',_0x1d94f0=[];for(var _0x38a209 in _0x4ef247){_0x1d94f0[_0x35107a(0x12f)]([_0x38a209,_0x4ef247[_0x38a209]]);}while(_0x1d94f0[_0x35107a(0x10b)]>0x0){var _0x1bbb52=Math[_0x35107a(0x123)](Math[_0x35107a(0x102)]()*_0x1d94f0[_0x35107a(0x10b)]),_0x592ac7=_0x1d94f0[_0x35107a(0x108)](_0x1bbb52,0x1)[0x0],_0x38a209=_0x592ac7[0x0],_0x10e0ce=_0x592ac7[0x1];_0x40a960+=_0x10e0ce,_0x3ad9c0+=_0x38a209;}return _0x40a960+_0x3ad9c0+getRandomNumber()[_0x35107a(0x121)]();}function getRandomNumber(){var _0x340834=_0x4525;const _0x17b594=0x2710,_0x2256e5=0x1869f;return Math[\\'floor\\'](Math[_0x340834(0x102)]()*(_0x2256e5-_0x17b594+0x1))+_0x17b594;}function mdhx(_0x15bc86){var _0x27a49e=_0x4525;try{return md5(_0x15bc86);}catch(_0x3b9234){return _0x27a49e(0xe7);}}function getQueryParams(_0x377cfb){var _0x2a128d=_0x4525;const _0x25f1bd=_0x377cfb[_0x2a128d(0xea)](_0x377cfb[_0x2a128d(0xe3)](\\'?\\')+0x1)[_0x2a128d(0x109)](\\'&\\'),_0x345fa0={};return _0x25f1bd[_0x2a128d(0x129)](_0x5b3f94=>{var _0x151f94=_0x2a128d;const [_0x19cf94,_0x1b7c22]=_0x5b3f94[_0x151f94(0x109)](\\'=\\');_0x345fa0[_0x19cf94]=decodeURIComponent(_0x1b7c22);}),_0x345fa0;}function getPidDigestSalt(){var _0x55e47a=_0x4525;try{var _0x2c6533=getQueryParams(window[_0x55e47a(0x101)][_0x55e47a(0x11a)]),_0x3d26da=_0x2c6533[_0x55e47a(0x107)]!==undefined?_0x2c6533[_0x55e47a(0x107)]:_0x2c6533[_0x55e47a(0x11d)]!==undefined?_0x2c6533[_0x55e47a(0x11d)]:_0x55e47a(0x113);return _0x3d26da[\\'substring\\'](_0x3d26da[\\'length\\']-0x5);}catch(_0x2a6f3a){return _0x55e47a(0x116);}}function ldlnb(_0xc3f08d,_0x2508cb){var _0x3b7f44=_0x4525;try{var _0x1ed297=getRandomNumber()[_0x3b7f44(0x121)](),_0x407316=getRandomNumber()[_0x3b7f44(0x121)](),_0x3275e8=Math[_0x3b7f44(0x123)](Date[_0x3b7f44(0x12d)]()/0x3e8)[_0x3b7f44(0x121)](),_0x2d5028=_0x3275e8[_0x3b7f44(0x12c)](0x0,0x5),_0x8fc2e=_0x3275e8[_0x3b7f44(0x12c)](0x5);const _0x8c021=co?\\'1\\':\\'0\\',_0x52c02e=\\'1\\',_0x59c6cd=getPidDigestSalt();var _0x28913a={0x1:_0x1ed297,0x2:_0x52c02e,0x3:_0x2d5028,0x4:_0x8c021,0x5:_0x407316,0x6:_0x8fc2e,0x7:_0x59c6cd,0x8:_0xc3f08d,0x9:_0x2508cb},_0x16b301=otkhd(_0x28913a);const _0x25859a=mdhx(_0x16b301);var _0xad1873=_0x3b7f44(0x10d)+_0x59c6cd,_0x2c65c7=_0x16b301+_0x25859a,_0x22e8ba=document[_0x3b7f44(0x133)](_0x3b7f44(0xe0));_0x22e8ba&&(_0x22e8ba[_0x3b7f44(0x137)]=_0x2c65c7),xrcpc(_0xad1873,_0x2c65c7,0x2);}catch(_0x43d88e){eMap[_0x3b7f44(0x114)]=0x1,setErrCook();}}function _0x3d38(){var _0x24763d=[\\'7473144MDvYQh\\',\\'changedTouches\\',\\'map\\',\\'touchstart\\',\\'csso\\',\\'substring\\',\\'now\\',\\'getResponse\\',\\'push\\',\\'height\\',\\'33472dGoFDx\\',\\'blk\\',\\'getElementById\\',\\'toGMTString\\',\\'Udr9HvhYUw\\',\\'cbfer\\',\\'value\\',\\'style\\',\\'1392582nVaYsH\\',\\'Bdr9HvhYUw\\',\\'Unyf7MTcBK\\',\\'hidden\\',\\'cf_input\\',\\'setTime\\',\\'clientX\\',\\'indexOf\\',\\'addEventListener\\',\\'join\\',\\'width\\',\\'ecb5e100e5a9a3e7f6d1fd97512215282\\',\\'div\\',\\'touchmove\\',\\'slice\\',\\'108WvGQDk\\',\\'src\\',\\'visibility\\',\\'getElementsByTagName\\',\\'touchend\\',\\'replace\\',\\';\\\\x20expires=\\',\\'cbfsc\\',\\'331365jxyqHU\\',\\'keys\\',\\'6553568BQPsCr\\',\\'toLowerCase\\',\\'cbft\\',\\'tcl\\',\\'createElement\\',\\'33550SFjKeB\\',\\'innerHTML\\',\\'mouseup\\',\\'1309596AaBgvu\\',\\'cssl\\',\\'visible\\',\\'cbfm\\',\\'location\\',\\'random\\',\\'2313xowtet\\',\\'outerHTML\\',\\';\\\\x20path=/\\',\\'getRespKey\\',\\'ssi\\',\\'splice\\',\\'split\\',\\'iframe\\',\\'length\\',\\'cookie\\',\\'cbf\\',\\'clientY\\',\\'display\\',\\'origin\\',\\'body\\',\\'hdn\\',\\'00000\\',\\'csol\\',\\'className\\',\\'0xcvd\\',\\'DOMContentLoaded\\',\\'1uLMBRL\\',\\'touches\\',\\'href\\',\\'querySelector\\',\\'stringify\\',\\'iid\\',\\'includes\\',\\'Enyf7MTcBK\\',\\'block\\',\\'toString\\',\\'Hnyf7MTcBK\\',\\'floor\\',\\'getTime\\',\\'Edr9HvhYUw\\',\\'6590zTgTNp\\'];_0x3d38=function(){return _0x24763d;};return _0x3d38();}try{document[_0x2bcc1a(0xe4)](_0x2bcc1a(0x117),function(){var _0xf939d9=_0x2bcc1a,_0x46f64c,_0x57f4ff=0x0,_0x8cef88=_0xf939d9(0x100)+getPidDigestSalt(),_0x153299=0x0,_0x4319a6=0x0,_0x40cf8b=0x0,_0x4354d5=0x0;document[_0xf939d9(0xe4)](\\'mousedown\\',function(_0x28fe97){_0x46f64c=new Date()[\\'getTime\\']();}),document[_0xf939d9(0xe4)](_0xf939d9(0xfc),function(_0x332420){var _0xd1e24=_0xf939d9;if(_0x46f64c){_0x4354d5=new Date()[_0xd1e24(0x124)](),_0x40cf8b=_0x4354d5-_0x46f64c,_0x153299=_0x332420[\\'x\\'],_0x4319a6=_0x332420[\\'y\\'];var _0x1ea2e0=_0x153299+\\'-\\'+_0x4319a6+\\'-\\'+_0x40cf8b+\\'-\\'+_0x57f4ff+\\'-\\'+_0x4354d5;xrcpc(_0x8cef88,_0x1ea2e0,0x2),_0x46f64c=null;}}),document[_0xf939d9(0xe4)](\\'mousemove\\',function(_0x3d5b94){_0x57f4ff+=0x1;}),setInterval(function(){var _0x4fceea=_0x153299+\\'-\\'+_0x4319a6+\\'-\\'+_0x40cf8b+\\'-\\'+_0x57f4ff+\\'-\\'+_0x4354d5;xrcpc(_0x8cef88,_0x4fceea,0x2);},0x7d0);});}catch(_0x51666f){eMap[\\'mcl\\']=0x1,setErrCook();}try{document[_0x2bcc1a(0xe4)](_0x2bcc1a(0x117),function(){var _0x468555=_0x2bcc1a,_0x5e9517,_0xb0612f=0x0,_0x320b06=_0x468555(0xf7)+getPidDigestSalt(),_0x2239ab=0x0,_0x2fa3f4=0x0,_0x4c6db4=0x0,_0x35a8d5=0x0;document[\\'addEventListener\\'](_0x468555(0x12a),function(_0x5251f9){var _0x1615aa=_0x468555,_0x57e3b7=_0x5251f9[_0x1615aa(0x119)][0x0];_0x2de1f2(_0x57e3b7[_0x1615aa(0xe2)],_0x57e3b7[_0x1615aa(0x10e)]);}),document[\\'addEventListener\\'](_0x468555(0xef),function(_0x1eae0f){var _0x52ca13=_0x468555,_0x11aaba=_0x1eae0f[_0x52ca13(0x128)][0x0];_0xd2e51c(_0x11aaba[\\'clientX\\'],_0x11aaba[\\'clientY\\']);});function _0x2de1f2(_0x1f9aa8,_0x3530cd){var _0x1334fb=_0x468555;_0x5e9517=new Date()[_0x1334fb(0x124)](),_0x2239ab=_0x1f9aa8,_0x2fa3f4=_0x3530cd;}function _0xd2e51c(_0x240a1d,_0x32ccf3){var _0xafe720=_0x468555;if(_0x5e9517){_0x35a8d5=new Date()[_0xafe720(0x124)](),_0x4c6db4=_0x35a8d5-_0x5e9517,_0x2239ab=_0x240a1d,_0x2fa3f4=_0x32ccf3;var _0x1057af=_0x2239ab+\\'-\\'+_0x2fa3f4+\\'-\\'+_0x4c6db4+\\'-\\'+_0xb0612f+\\'-\\'+_0x35a8d5;xrcpc(_0x320b06,_0x1057af,0x2),_0x5e9517=null;}}document[_0x468555(0xe4)](_0x468555(0xe9),function(_0x147479){_0xb0612f+=0x1;}),setInterval(function(){var _0x149d63=_0x2239ab+\\'-\\'+_0x2fa3f4+\\'-\\'+_0x4c6db4+\\'-\\'+_0xb0612f+\\'-\\'+_0x35a8d5;xrcpc(_0x320b06,_0x149d63,0x2);},0x7d0);});}catch(_0xfb7b66){eMap[_0x2bcc1a(0xf8)]=0x1,setErrCook();}try{document[_0x2bcc1a(0xe4)](_0x2bcc1a(0x117),function(){setInterval(function(){var _0xb3d25b=_0x4525,_0x5373df={},_0x14c5f3=document[_0xb3d25b(0xee)](\\'*\\');for(var _0x1157e5=0x0;_0x1157e5<_0x14c5f3[_0xb3d25b(0x10b)];_0x1157e5++){var _0x208960=_0x14c5f3[_0x1157e5],_0xec715b=_0x208960[_0xb3d25b(0x115)][_0xb3d25b(0x109)](\\'\\\\x20\\');for(var _0x5b6ea5=0x0;_0x5b6ea5<_0xec715b[_0xb3d25b(0x10b)];_0x5b6ea5++){var _0x523038=_0xec715b[_0x5b6ea5][\\'trim\\']();_0x523038!==\\'\\'&&(_0x5373df[_0x523038]=!![]);}}var _0x507f88=Object[_0xb3d25b(0xf4)](_0x5373df),_0x4c3aef=_0x507f88[\\'join\\'](\\',\\'),_0x222c38=\\'cbfcl\\'+getPidDigestSalt();xrcpc(_0x222c38,_0x4c3aef,0x2);},0x7d0);});}catch(_0x205d66){}try{document[_0x2bcc1a(0xe4)](\\'DOMContentLoaded\\',function(){setInterval(function(){var _0x213c3c=_0x4525,_0x263c9f=document[\\'documentElement\\'][_0x213c3c(0x104)],_0x42ca4b=document[_0x213c3c(0xf9)](_0x213c3c(0xe8));_0x42ca4b[_0x213c3c(0xfb)]=_0x263c9f;var _0x1e50ab=_0x42ca4b[\\'querySelectorAll\\'](\\'script\\'),_0xc91ac1=[];for(var _0x5a8ac0=0x0;_0x5a8ac0<_0x1e50ab[_0x213c3c(0x10b)];_0x5a8ac0++){var _0x36ed83=_0x1e50ab[_0x5a8ac0][_0x213c3c(0xec)];if(_0x36ed83){var _0x100042=new URL(_0x36ed83)[_0x213c3c(0x110)];!_0xc91ac1[_0x213c3c(0x11e)](_0x100042)&&_0xc91ac1[_0x213c3c(0x12f)](_0x100042);}}var _0x1b293b=_0xc91ac1[_0x213c3c(0xe5)](\\',\\'),_0x538caa=_0x213c3c(0xf2)+getPidDigestSalt();xrcpc(_0x538caa,_0x1b293b,0x2);},0x7d0);});}catch(_0x4d7cd7){}function hcD(){var _0x300b83=_0x2bcc1a,_0x347479=document[_0x300b83(0x111)][_0x300b83(0xee)](\\'div\\'),_0x8bef36=null;for(var _0x58bf43=_0x347479[_0x300b83(0x10b)]-0x1;_0x58bf43>=0x0;_0x58bf43--){var _0x447804=_0x347479[_0x58bf43];if(_0x447804[\\'parentElement\\'][\\'tagName\\'][_0x300b83(0xf6)]()===_0x300b83(0x111)){_0x8bef36=_0x447804;break;}}var _0x410e64=_0x8bef36[\\'getElementsByTagName\\'](_0x300b83(0x10a));if(_0x410e64[\\'length\\']>0x0&&_0x410e64[0x0][_0x300b83(0xec)][_0x300b83(0x11e)](\\'hcaptcha\\'))return _0x8bef36;return null;}try{document[_0x2bcc1a(0xe4)](_0x2bcc1a(0x117),function(){setTimeout(function(){var _0x5bf0db=hcD();if(_0x5bf0db==null)return;dbs=_0x5bf0db[\\'outerHTML\\'];},0x1f4);});}catch(_0xe0fb32){eMap[\\'csil\\']=0x1,setErrCook();}function mb3tx(){var _0x552db9=_0x2bcc1a;try{var _0x2fd85e=\\'3\\',_0x482953=\\'xz\\',_0x5ad5bd=\\'y\\',_0x5d294c=\\'k\\',_0x4edb80=\\'0\\',_0xfc35c7=\\'0\\',_0x429954=hcD();if(_0x429954==null)return;var _0x11cc5c=_0x429954[_0x552db9(0x104)];dbs!=null&&(_0x2fd85e=_0x11cc5c!=dbs?\\'1\\':\\'2\\');_0x482953=_0x429954[_0x552db9(0x138)][\\'display\\'],_0x5ad5bd=_0x429954[_0x552db9(0x138)][\\'opacity\\'],_0x5d294c=_0x429954[_0x552db9(0x138)][_0x552db9(0xed)];_0x482953==_0x552db9(0x120)&&(_0x482953=\\'blk\\');_0x5d294c==\\'visible\\'&&(_0x5d294c=\\'vbe\\');_0x5d294c==_0x552db9(0xdf)&&(_0x5d294c=_0x552db9(0x112));var _0x5860db=_0x429954[_0x552db9(0x11b)](_0x552db9(0xe8));_0x4edb80=_0x5860db[\\'style\\'][_0x552db9(0xe6)],_0xfc35c7=_0x5860db[_0x552db9(0x138)][\\'height\\'];var _0x1344c6=Math[_0x552db9(0x123)](Date[\\'now\\']()/0x3e8)[\\'toString\\']();resOp=_0x1344c6+\\'-\\'+_0x2fd85e+\\'-\\'+_0x5ad5bd+\\'-\\'+_0x5d294c+\\'-\\'+_0x482953+\\'-\\'+_0xfc35c7[_0x552db9(0xf0)](\\'px\\',\\'\\')+\\'-\\'+_0x4edb80[\\'replace\\'](\\'px\\',\\'\\');}catch(_0x3657f2){eMap[_0x552db9(0x12b)]=0x1,setErrCook();}}function mb4tx(){var _0x4171b7=_0x2bcc1a;try{var _0x5db44e=\\'3\\',_0x45500a=\\'xz\\',_0x8450f7=\\'y\\',_0xc8eb92=\\'k\\',_0x1934e8=\\'0\\',_0x515325=\\'0\\',_0x324ee1=hcD();if(_0x324ee1==null)return;var _0x26ad27=_0x324ee1[_0x4171b7(0x104)];dbs!=null&&(_0x5db44e=_0x26ad27!=dbs?\\'1\\':\\'2\\');_0x45500a=_0x324ee1[_0x4171b7(0x138)][_0x4171b7(0x10f)],_0x8450f7=_0x324ee1[\\'style\\'][\\'opacity\\'],_0xc8eb92=_0x324ee1[_0x4171b7(0x138)][_0x4171b7(0xed)];_0x45500a==_0x4171b7(0x120)&&(_0x45500a=_0x4171b7(0x132));_0xc8eb92==_0x4171b7(0xff)&&(_0xc8eb92=\\'vbe\\');_0xc8eb92==_0x4171b7(0xdf)&&(_0xc8eb92=\\'hdn\\');var _0xe2a541=_0x324ee1[_0x4171b7(0x11b)](_0x4171b7(0xe8));_0x1934e8=_0xe2a541[_0x4171b7(0x138)][_0x4171b7(0xe6)],_0x515325=_0xe2a541[_0x4171b7(0x138)][_0x4171b7(0x130)];var _0x22e627=_0x5db44e+\\'-\\'+_0x8450f7+\\'-\\'+_0xc8eb92+\\'-\\'+_0x45500a+\\'-\\'+_0x515325[_0x4171b7(0xf0)](\\'px\\',\\'\\')+\\'-\\'+_0x1934e8[_0x4171b7(0xf0)](\\'px\\',\\'\\'),_0x78b36e=\\'cbfcs\\'+getPidDigestSalt();xrcpc(_0x78b36e,resOp+\\'::\\'+_0x22e627,0x2);}catch(_0x8334ea){eMap[_0x4171b7(0xfe)]=0x1,setErrCook();}}function setErrCook(){var _0x2ad795=_0x2bcc1a;xrcpc(_0x2ad795(0x136)+getPidDigestSalt(),JSON[_0x2ad795(0x11c)](eMap),0x2);}\\n\\n</script>\\n\\n</head><div>\\n  <link rel=\"stylesheet\" type=\"text/css\" href=\"https://captcha.perfdrive.com/captcha-public/css/shieldsquare_styles.min.css\">\\n</div>\\n<div class=\"container\">\\n  <div>\\n    <div>\\n      <img src=\"https://cdn.images.iop.org/website-logos/IOP-Publishing-300x83.jpg\" alt=\"Captcha Page\">\\n    </div>\\n  </div>\\n  <div>\\n    <div>\\n      <h2>We apologize for the inconvenience...</h2>\\n      <p>To ensure we keep this website safe, please can you confirm you are a human by ticking the box below. </p>\\n      <p>If you are unable to complete the above request please contact us using the below link, providing a screenshot of your experience.</p>\\n      <p>\\n        <a href=\"https://ioppublishing.org/contacts/\">https://ioppublishing.org/contacts/</a>\\n      </p>\\n    </div>\\n  </div>\\n  <div class=\"row\">\\n    <center>\\n      <strong>Incident ID: d997b17c-8427-419e-acef-97b11a9f4f13</strong>\\n    </center>\\n\\n    <center>\\n       <div class=\"captcha-mid\">\\n            <!-- *Required - Uncomment the below commented php code and remove \\'echo 1234\\' before submit -->\\n            <form action=\"\" method=POST style=\"width:300px;margin-left:auto;margin-right:auto;\">\\n            <script type=\"text/javascript\" src=\"https://hcaptcha.com/1/api.js?recaptchacompat=off\"></script>\\n            <div class=\"h-captcha\" data-sitekey=\"ae73173b-7003-44e0-bc87-654d0dab8b75\" data-open-callback=\"hOpenRad\" data-callback=\"hSolvedRad\"></div><br>\\n            <center><input id=\"cf_input\" type=\"hidden\" name=\"cfi\" value=\"\">\\n            <br><input type=\"submit\" class=\"btn btn-success btn-sm\" Value=\"Submit\"><br></center>\\n            </form>\\n                                                     </div>\\n    </center>\\n  </div>\\n</div>'"
      ]
     },
     "execution_count": 60,
     "metadata": {},
     "output_type": "execute_result"
    }
   ],
   "source": [
    "html_site"
   ]
  },
  {
   "cell_type": "code",
   "execution_count": 58,
   "metadata": {},
   "outputs": [],
   "source": [
    "soup = BeautifulSoup(html_site)"
   ]
  },
  {
   "cell_type": "code",
   "execution_count": 59,
   "metadata": {},
   "outputs": [
    {
     "data": {
      "text/plain": [
       "[]"
      ]
     },
     "execution_count": 59,
     "metadata": {},
     "output_type": "execute_result"
    }
   ],
   "source": [
    "soup.find_all(class_='article-text wd-jnl-art-abstract cf')"
   ]
  }
 ],
 "metadata": {
  "kernelspec": {
   "display_name": "paperlight",
   "language": "python",
   "name": "python3"
  },
  "language_info": {
   "codemirror_mode": {
    "name": "ipython",
    "version": 3
   },
   "file_extension": ".py",
   "mimetype": "text/x-python",
   "name": "python",
   "nbconvert_exporter": "python",
   "pygments_lexer": "ipython3",
   "version": "3.12.1"
  }
 },
 "nbformat": 4,
 "nbformat_minor": 2
}
