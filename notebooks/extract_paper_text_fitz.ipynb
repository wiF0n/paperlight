{
 "cells": [
  {
   "cell_type": "code",
   "execution_count": 1,
   "metadata": {},
   "outputs": [],
   "source": [
    "import fitz"
   ]
  },
  {
   "cell_type": "code",
   "execution_count": 2,
   "metadata": {},
   "outputs": [],
   "source": [
    "doc = fitz.open(\"../papers/2204.08387v3.LayoutLMv3__Pre_training_for_Document_AI_with_Unified_Text_and_Image_Masking.pdf\")"
   ]
  },
  {
   "cell_type": "code",
   "execution_count": 4,
   "metadata": {},
   "outputs": [],
   "source": [
    "out = open(\"output.txt\", \"wb\") # create a text output\n",
    "for page in doc: # iterate the document pages\n",
    "\ttext = page.get_text().encode(\"utf8\") # get plain text (is in UTF-8)\n",
    "\tout.write(text) # write text of page\n",
    "\tout.write(bytes((12,))) # write page delimiter (form feed 0x0C)\n",
    "out.close()"
   ]
  },
  {
   "cell_type": "code",
   "execution_count": 5,
   "metadata": {},
   "outputs": [],
   "source": [
    "toc = doc.get_toc()"
   ]
  },
  {
   "cell_type": "code",
   "execution_count": 6,
   "metadata": {},
   "outputs": [
    {
     "data": {
      "text/plain": [
       "[[1, 'Abstract', 1],\n",
       " [1, '1 Introduction', 1],\n",
       " [1, '2 LayoutLMv3', 2],\n",
       " [2, '2.1 Model Architecture', 2],\n",
       " [2, '2.2 Pre-training Objectives', 3],\n",
       " [1, '3 Experiments', 4],\n",
       " [2, '3.1 Model Configurations', 4],\n",
       " [2, '3.2 Pre-training LayoutLMv3', 4],\n",
       " [2, '3.3 Fine-tuning on Multimodal Tasks', 4],\n",
       " [2, '3.4 Fine-tuning on a Vision Task', 6],\n",
       " [2, '3.5 Ablation Study', 7],\n",
       " [1, '4 Related Work', 8],\n",
       " [1, '5 Conclusion and Future Work', 8],\n",
       " [1, '6 Acknowledgement', 8],\n",
       " [1, 'A Appendix', 9],\n",
       " [2, 'A.1 LayoutLMv3 in Chinese', 9],\n",
       " [1, 'References', 9]]"
      ]
     },
     "execution_count": 6,
     "metadata": {},
     "output_type": "execute_result"
    }
   ],
   "source": [
    "toc"
   ]
  }
 ],
 "metadata": {
  "kernelspec": {
   "display_name": "paperlight",
   "language": "python",
   "name": "python3"
  },
  "language_info": {
   "codemirror_mode": {
    "name": "ipython",
    "version": 3
   },
   "file_extension": ".py",
   "mimetype": "text/x-python",
   "name": "python",
   "nbconvert_exporter": "python",
   "pygments_lexer": "ipython3",
   "version": "3.12.1"
  }
 },
 "nbformat": 4,
 "nbformat_minor": 2
}
